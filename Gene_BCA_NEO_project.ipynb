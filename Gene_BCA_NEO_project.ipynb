{
  "nbformat": 4,
  "nbformat_minor": 0,
  "metadata": {
    "colab": {
      "provenance": [],
      "collapsed_sections": []
    },
    "kernelspec": {
      "name": "python3",
      "display_name": "Python 3"
    },
    "language_info": {
      "name": "python"
    },
    "gpuClass": "standard"
  },
  "cells": [
    {
      "cell_type": "markdown",
      "source": [
        "# Data Analytics"
      ],
      "metadata": {
        "id": "3YioArL72bec"
      }
    },
    {
      "cell_type": "code",
      "execution_count": null,
      "metadata": {
        "id": "cTT3u9H42LJU"
      },
      "outputs": [],
      "source": [
        "import numpy as np\n",
        "import pandas as pd\n",
        "import matplotlib.pyplot as plt\n",
        "import seaborn as sns"
      ]
    },
    {
      "cell_type": "code",
      "source": [
        "# imports data locally\n",
        "df = pd.read_csv('neo_v2.csv')"
      ],
      "metadata": {
        "id": "SHE451aPxyaU"
      },
      "execution_count": null,
      "outputs": []
    },
    {
      "cell_type": "code",
      "source": [
        "df.head()"
      ],
      "metadata": {
        "colab": {
          "base_uri": "https://localhost:8080/"
        },
        "id": "kfu7w7Tx2ZaS",
        "outputId": "6d0f4c7b-d38c-40d9-8904-7e838ae8f53d"
      },
      "execution_count": null,
      "outputs": [
        {
          "output_type": "execute_result",
          "data": {
            "text/plain": [
              "        id                 name  est_diameter_min  est_diameter_max  \\\n",
              "0  2162635  162635 (2000 SS164)          1.198271          2.679415   \n",
              "1  2277475    277475 (2005 WK4)          0.265800          0.594347   \n",
              "2  2512244   512244 (2015 YE18)          0.722030          1.614507   \n",
              "3  3596030          (2012 BV13)          0.096506          0.215794   \n",
              "4  3667127          (2014 GE35)          0.255009          0.570217   \n",
              "\n",
              "   relative_velocity  miss_distance orbiting_body  sentry_object  \\\n",
              "0       13569.249224   5.483974e+07         Earth          False   \n",
              "1       73588.726663   6.143813e+07         Earth          False   \n",
              "2      114258.692129   4.979872e+07         Earth          False   \n",
              "3       24764.303138   2.543497e+07         Earth          False   \n",
              "4       42737.733765   4.627557e+07         Earth          False   \n",
              "\n",
              "   absolute_magnitude  hazardous  \n",
              "0               16.73      False  \n",
              "1               20.00       True  \n",
              "2               17.83      False  \n",
              "3               22.20      False  \n",
              "4               20.09       True  "
            ],
            "text/html": [
              "\n",
              "  <div id=\"df-9c604dae-9fb4-4e91-8774-6e72f3e94d4a\">\n",
              "    <div class=\"colab-df-container\">\n",
              "      <div>\n",
              "<style scoped>\n",
              "    .dataframe tbody tr th:only-of-type {\n",
              "        vertical-align: middle;\n",
              "    }\n",
              "\n",
              "    .dataframe tbody tr th {\n",
              "        vertical-align: top;\n",
              "    }\n",
              "\n",
              "    .dataframe thead th {\n",
              "        text-align: right;\n",
              "    }\n",
              "</style>\n",
              "<table border=\"1\" class=\"dataframe\">\n",
              "  <thead>\n",
              "    <tr style=\"text-align: right;\">\n",
              "      <th></th>\n",
              "      <th>id</th>\n",
              "      <th>name</th>\n",
              "      <th>est_diameter_min</th>\n",
              "      <th>est_diameter_max</th>\n",
              "      <th>relative_velocity</th>\n",
              "      <th>miss_distance</th>\n",
              "      <th>orbiting_body</th>\n",
              "      <th>sentry_object</th>\n",
              "      <th>absolute_magnitude</th>\n",
              "      <th>hazardous</th>\n",
              "    </tr>\n",
              "  </thead>\n",
              "  <tbody>\n",
              "    <tr>\n",
              "      <th>0</th>\n",
              "      <td>2162635</td>\n",
              "      <td>162635 (2000 SS164)</td>\n",
              "      <td>1.198271</td>\n",
              "      <td>2.679415</td>\n",
              "      <td>13569.249224</td>\n",
              "      <td>5.483974e+07</td>\n",
              "      <td>Earth</td>\n",
              "      <td>False</td>\n",
              "      <td>16.73</td>\n",
              "      <td>False</td>\n",
              "    </tr>\n",
              "    <tr>\n",
              "      <th>1</th>\n",
              "      <td>2277475</td>\n",
              "      <td>277475 (2005 WK4)</td>\n",
              "      <td>0.265800</td>\n",
              "      <td>0.594347</td>\n",
              "      <td>73588.726663</td>\n",
              "      <td>6.143813e+07</td>\n",
              "      <td>Earth</td>\n",
              "      <td>False</td>\n",
              "      <td>20.00</td>\n",
              "      <td>True</td>\n",
              "    </tr>\n",
              "    <tr>\n",
              "      <th>2</th>\n",
              "      <td>2512244</td>\n",
              "      <td>512244 (2015 YE18)</td>\n",
              "      <td>0.722030</td>\n",
              "      <td>1.614507</td>\n",
              "      <td>114258.692129</td>\n",
              "      <td>4.979872e+07</td>\n",
              "      <td>Earth</td>\n",
              "      <td>False</td>\n",
              "      <td>17.83</td>\n",
              "      <td>False</td>\n",
              "    </tr>\n",
              "    <tr>\n",
              "      <th>3</th>\n",
              "      <td>3596030</td>\n",
              "      <td>(2012 BV13)</td>\n",
              "      <td>0.096506</td>\n",
              "      <td>0.215794</td>\n",
              "      <td>24764.303138</td>\n",
              "      <td>2.543497e+07</td>\n",
              "      <td>Earth</td>\n",
              "      <td>False</td>\n",
              "      <td>22.20</td>\n",
              "      <td>False</td>\n",
              "    </tr>\n",
              "    <tr>\n",
              "      <th>4</th>\n",
              "      <td>3667127</td>\n",
              "      <td>(2014 GE35)</td>\n",
              "      <td>0.255009</td>\n",
              "      <td>0.570217</td>\n",
              "      <td>42737.733765</td>\n",
              "      <td>4.627557e+07</td>\n",
              "      <td>Earth</td>\n",
              "      <td>False</td>\n",
              "      <td>20.09</td>\n",
              "      <td>True</td>\n",
              "    </tr>\n",
              "  </tbody>\n",
              "</table>\n",
              "</div>\n",
              "      <button class=\"colab-df-convert\" onclick=\"convertToInteractive('df-9c604dae-9fb4-4e91-8774-6e72f3e94d4a')\"\n",
              "              title=\"Convert this dataframe to an interactive table.\"\n",
              "              style=\"display:none;\">\n",
              "        \n",
              "  <svg xmlns=\"http://www.w3.org/2000/svg\" height=\"24px\"viewBox=\"0 0 24 24\"\n",
              "       width=\"24px\">\n",
              "    <path d=\"M0 0h24v24H0V0z\" fill=\"none\"/>\n",
              "    <path d=\"M18.56 5.44l.94 2.06.94-2.06 2.06-.94-2.06-.94-.94-2.06-.94 2.06-2.06.94zm-11 1L8.5 8.5l.94-2.06 2.06-.94-2.06-.94L8.5 2.5l-.94 2.06-2.06.94zm10 10l.94 2.06.94-2.06 2.06-.94-2.06-.94-.94-2.06-.94 2.06-2.06.94z\"/><path d=\"M17.41 7.96l-1.37-1.37c-.4-.4-.92-.59-1.43-.59-.52 0-1.04.2-1.43.59L10.3 9.45l-7.72 7.72c-.78.78-.78 2.05 0 2.83L4 21.41c.39.39.9.59 1.41.59.51 0 1.02-.2 1.41-.59l7.78-7.78 2.81-2.81c.8-.78.8-2.07 0-2.86zM5.41 20L4 18.59l7.72-7.72 1.47 1.35L5.41 20z\"/>\n",
              "  </svg>\n",
              "      </button>\n",
              "      \n",
              "  <style>\n",
              "    .colab-df-container {\n",
              "      display:flex;\n",
              "      flex-wrap:wrap;\n",
              "      gap: 12px;\n",
              "    }\n",
              "\n",
              "    .colab-df-convert {\n",
              "      background-color: #E8F0FE;\n",
              "      border: none;\n",
              "      border-radius: 50%;\n",
              "      cursor: pointer;\n",
              "      display: none;\n",
              "      fill: #1967D2;\n",
              "      height: 32px;\n",
              "      padding: 0 0 0 0;\n",
              "      width: 32px;\n",
              "    }\n",
              "\n",
              "    .colab-df-convert:hover {\n",
              "      background-color: #E2EBFA;\n",
              "      box-shadow: 0px 1px 2px rgba(60, 64, 67, 0.3), 0px 1px 3px 1px rgba(60, 64, 67, 0.15);\n",
              "      fill: #174EA6;\n",
              "    }\n",
              "\n",
              "    [theme=dark] .colab-df-convert {\n",
              "      background-color: #3B4455;\n",
              "      fill: #D2E3FC;\n",
              "    }\n",
              "\n",
              "    [theme=dark] .colab-df-convert:hover {\n",
              "      background-color: #434B5C;\n",
              "      box-shadow: 0px 1px 3px 1px rgba(0, 0, 0, 0.15);\n",
              "      filter: drop-shadow(0px 1px 2px rgba(0, 0, 0, 0.3));\n",
              "      fill: #FFFFFF;\n",
              "    }\n",
              "  </style>\n",
              "\n",
              "      <script>\n",
              "        const buttonEl =\n",
              "          document.querySelector('#df-9c604dae-9fb4-4e91-8774-6e72f3e94d4a button.colab-df-convert');\n",
              "        buttonEl.style.display =\n",
              "          google.colab.kernel.accessAllowed ? 'block' : 'none';\n",
              "\n",
              "        async function convertToInteractive(key) {\n",
              "          const element = document.querySelector('#df-9c604dae-9fb4-4e91-8774-6e72f3e94d4a');\n",
              "          const dataTable =\n",
              "            await google.colab.kernel.invokeFunction('convertToInteractive',\n",
              "                                                     [key], {});\n",
              "          if (!dataTable) return;\n",
              "\n",
              "          const docLinkHtml = 'Like what you see? Visit the ' +\n",
              "            '<a target=\"_blank\" href=https://colab.research.google.com/notebooks/data_table.ipynb>data table notebook</a>'\n",
              "            + ' to learn more about interactive tables.';\n",
              "          element.innerHTML = '';\n",
              "          dataTable['output_type'] = 'display_data';\n",
              "          await google.colab.output.renderOutput(dataTable, element);\n",
              "          const docLink = document.createElement('div');\n",
              "          docLink.innerHTML = docLinkHtml;\n",
              "          element.appendChild(docLink);\n",
              "        }\n",
              "      </script>\n",
              "    </div>\n",
              "  </div>\n",
              "  "
            ]
          },
          "metadata": {},
          "execution_count": 5
        }
      ]
    },
    {
      "cell_type": "code",
      "source": [
        "df.shape"
      ],
      "metadata": {
        "colab": {
          "base_uri": "https://localhost:8080/"
        },
        "id": "brBVEkQq1FWi",
        "outputId": "6e3465bf-20d2-4945-c345-3813bf299c99"
      },
      "execution_count": null,
      "outputs": [
        {
          "output_type": "execute_result",
          "data": {
            "text/plain": [
              "(90836, 10)"
            ]
          },
          "metadata": {},
          "execution_count": 6
        }
      ]
    },
    {
      "cell_type": "code",
      "source": [
        "df.isna().sum()"
      ],
      "metadata": {
        "colab": {
          "base_uri": "https://localhost:8080/"
        },
        "id": "7nXKQD0rbZoY",
        "outputId": "89db130d-dfa4-4b4a-aa71-0f96b20db7ea"
      },
      "execution_count": null,
      "outputs": [
        {
          "output_type": "execute_result",
          "data": {
            "text/plain": [
              "id                    0\n",
              "name                  0\n",
              "est_diameter_min      0\n",
              "est_diameter_max      0\n",
              "relative_velocity     0\n",
              "miss_distance         0\n",
              "orbiting_body         0\n",
              "sentry_object         0\n",
              "absolute_magnitude    0\n",
              "hazardous             0\n",
              "dtype: int64"
            ]
          },
          "metadata": {},
          "execution_count": 7
        }
      ]
    },
    {
      "cell_type": "markdown",
      "source": [
        "**How many NEOs(Near Earth Objects) are and aren't hazardous?**"
      ],
      "metadata": {
        "id": "RgCtmxuf3Q0Y"
      }
    },
    {
      "cell_type": "code",
      "source": [
        "sns.set()\n",
        "\n",
        "hazardous = df['hazardous'].copy()\n",
        "\n",
        "plt.hist(hazardous.astype(str), color='maroon')\n",
        "\n",
        "plt.xlabel('Hazardous')\n",
        "plt.ylabel('Count')\n",
        "\n",
        "plt.title('Number of Near Earth Objects that is and isn\\'t hazardous')\n",
        "\n",
        "plt.savefig('hazardous_histogram',dpi=200, bbox_inches='tight')\n",
        "\n",
        "plt.show()"
      ],
      "metadata": {
        "colab": {
          "base_uri": "https://localhost:8080/"
        },
        "id": "PAmBPNML3ADG",
        "outputId": "93987482-da1b-461a-c237-faa08f8a9f0e"
      },
      "execution_count": null,
      "outputs": [
        {
          "output_type": "display_data",
          "data": {
            "text/plain": [
              "<Figure size 432x288 with 1 Axes>"
            ],
            "image/png": "[encoded data removed]"
          },
          "metadata": {}
        }
      ]
    },
    {
      "cell_type": "markdown",
      "source": [
        "Most of NEOs are not hazardous (however there are still a lot of hazardous ones) "
      ],
      "metadata": {
        "id": "J5MbCP-THv2C"
      }
    },
    {
      "cell_type": "markdown",
      "source": [
        "**Relative Velocity of NEOs**"
      ],
      "metadata": {
        "id": "7kjv7VxHI--0"
      }
    },
    {
      "cell_type": "code",
      "source": [
        "sns.set()\n",
        "\n",
        "plt.hist(df['relative_velocity'], color='goldenrod')\n",
        "\n",
        "plt.xlabel('Relative Velocity')\n",
        "plt.ylabel('Count')\n",
        "\n",
        "plt.title('Relative Velocity of NEOs')\n",
        "\n",
        "plt.savefig('relative_vel_histogram',dpi=200, bbox_inches='tight')\n",
        "\n",
        "plt.show()"
      ],
      "metadata": {
        "colab": {
          "base_uri": "https://localhost:8080/"
        },
        "id": "obaFLNSC3Obv",
        "outputId": "b1141740-62c9-4335-ff6b-a439fe10024b"
      },
      "execution_count": null,
      "outputs": [
        {
          "output_type": "display_data",
          "data": {
            "text/plain": [
              "<Figure size 432x288 with 1 Axes>"
            ],
            "image/png": "[encoded data removed]"
          },
          "metadata": {}
        }
      ]
    },
    {
      "cell_type": "markdown",
      "source": [
        "Slightly positively skewed distribution of relative velocity of NEOs"
      ],
      "metadata": {
        "id": "tLkWfGyRIS42"
      }
    },
    {
      "cell_type": "markdown",
      "source": [
        "Absolute Magnitude"
      ],
      "metadata": {
        "id": "T23tY_n-ImTZ"
      }
    },
    {
      "cell_type": "code",
      "source": [
        "sns.set()\n",
        "\n",
        "plt.hist(df['absolute_magnitude'], color='olivedrab')\n",
        "\n",
        "plt.xlabel('Absolute Magnitude')\n",
        "plt.ylabel('Count')\n",
        "\n",
        "plt.title('Absolute Magnitude of NEOs')\n",
        "\n",
        "plt.savefig('absolute_magnitude_histogram',dpi=200, bbox_inches='tight')\n",
        "\n",
        "plt.show()"
      ],
      "metadata": {
        "colab": {
          "base_uri": "https://localhost:8080/"
        },
        "id": "mHKfKqc9Efwa",
        "outputId": "391a70cd-aa4d-4010-9ec7-93d55a996d7b"
      },
      "execution_count": null,
      "outputs": [
        {
          "output_type": "display_data",
          "data": {
            "text/plain": [
              "<Figure size 432x288 with 1 Axes>"
            ],
            "image/png": "[encoded data removed]"
          },
          "metadata": {}
        }
      ]
    },
    {
      "cell_type": "markdown",
      "source": [
        "Quite symmetrical"
      ],
      "metadata": {
        "id": "Tj7HHHpwLY7u"
      }
    },
    {
      "cell_type": "markdown",
      "source": [
        "**Absolute Magnitude and Diameter of NEOs**"
      ],
      "metadata": {
        "id": "UjbmyCb0J1xr"
      }
    },
    {
      "cell_type": "code",
      "source": [
        "sns.set()\n",
        "plt.figure(figsize=(8,5))\n",
        "\n",
        "sns.scatterplot(x='est_diameter_max', y='absolute_magnitude', data=df, hue='hazardous', palette='Dark2')\n",
        "\n",
        "plt.xlabel('Estimated Maximum Diameter')\n",
        "plt.ylabel('Absolute Magnitude (Brightness)')\n",
        "\n",
        "plt.title('Miss Distance of NEOs')\n",
        "\n",
        "plt.savefig('absmag_diameter_scatterplot',dpi=200, bbox_inches='tight')"
      ],
      "metadata": {
        "id": "H5o5oXCM3sqe",
        "colab": {
          "base_uri": "https://localhost:8080/"
        },
        "outputId": "b7423662-1e32-4d93-b5c7-974975ede5fe"
      },
      "execution_count": null,
      "outputs": [
        {
          "output_type": "display_data",
          "data": {
            "text/plain": [
              "<Figure size 576x360 with 1 Axes>"
            ],
            "image/png": "[encoded data removed]"
          },
          "metadata": {}
        }
      ]
    },
    {
      "cell_type": "markdown",
      "source": [
        "Overall negative correlation however relationship is not linear"
      ],
      "metadata": {
        "id": "Avag5ctsJ8aw"
      }
    },
    {
      "cell_type": "markdown",
      "source": [
        "**Miss Distance of NEOs**"
      ],
      "metadata": {
        "id": "xUP3auQ6JEB9"
      }
    },
    {
      "cell_type": "code",
      "source": [
        "sns.set()\n",
        "\n",
        "plt.hist(df['miss_distance'], color='darkslateblue')\n",
        "plt.axvline(384400, color='red')\n",
        "\n",
        "plt.xlabel('Miss Distance (km)')\n",
        "plt.ylabel('Count')\n",
        "\n",
        "plt.title('Miss Distance of NEOs')\n",
        "\n",
        "plt.savefig('miss_distance_histogram',dpi=200, bbox_inches='tight')\n",
        "\n",
        "plt.show()"
      ],
      "metadata": {
        "colab": {
          "base_uri": "https://localhost:8080/"
        },
        "id": "dmxt1xIwEcz4",
        "outputId": "c901554e-9210-4a95-a233-be5c7c971c69"
      },
      "execution_count": null,
      "outputs": [
        {
          "output_type": "display_data",
          "data": {
            "text/plain": [
              "<Figure size 432x288 with 1 Axes>"
            ],
            "image/png": "[encoded data removed]"
          },
          "metadata": {}
        }
      ]
    },
    {
      "cell_type": "markdown",
      "source": [
        "A uniform distribution of miss distances of NEOs"
      ],
      "metadata": {
        "id": "_9YIYrW-JLzD"
      }
    },
    {
      "cell_type": "markdown",
      "source": [
        "**Estimated Minimum and Maximum Diameter**\n",
        "\n"
      ],
      "metadata": {
        "id": "DQ2PRpyCugZb"
      }
    },
    {
      "cell_type": "code",
      "source": [
        "plt.figure(figsize=(8,5))\n",
        "\n",
        "sns.scatterplot(x='est_diameter_min', y='est_diameter_max', data=df, alpha=0.4, color='navy')\n",
        "\n",
        "plt.xlabel('Estimated Minimum Diameter')\n",
        "plt.ylabel('Estimated Maximum Diameter')\n",
        "\n",
        "plt.title('Estimated Minimum vs Maximum Diameter')\n",
        "\n",
        "plt.savefig('diameter_scatterplot',dpi=200, bbox_inches='tight')"
      ],
      "metadata": {
        "colab": {
          "base_uri": "https://localhost:8080/"
        },
        "id": "_lc_zWMCuTra",
        "outputId": "37131cd7-74d7-4c63-e581-e6150aca7878"
      },
      "execution_count": null,
      "outputs": [
        {
          "output_type": "display_data",
          "data": {
            "text/plain": [
              "<Figure size 576x360 with 1 Axes>"
            ],
            "image/png": "[encoded data removed]"
          },
          "metadata": {}
        }
      ]
    },
    {
      "cell_type": "markdown",
      "source": [
        "Estimated minimum and maximum diameter are perfectly correlated"
      ],
      "metadata": {
        "id": "wceYS7_0vDm0"
      }
    },
    {
      "cell_type": "markdown",
      "source": [
        "**Correlation between variables**"
      ],
      "metadata": {
        "id": "rOccYrdLvfAw"
      }
    },
    {
      "cell_type": "code",
      "source": [
        "df.corr()"
      ],
      "metadata": {
        "colab": {
          "base_uri": "https://localhost:8080/"
        },
        "id": "NCa08AkyCQx0",
        "outputId": "7e6da409-19b0-42cb-ad36-29c2bf8eefb4"
      },
      "execution_count": null,
      "outputs": [
        {
          "output_type": "execute_result",
          "data": {
            "text/plain": [
              "                          id  est_diameter_min  est_diameter_max  \\\n",
              "id                  1.000000         -0.148322         -0.148322   \n",
              "est_diameter_min   -0.148322          1.000000          1.000000   \n",
              "est_diameter_max   -0.148322          1.000000          1.000000   \n",
              "relative_velocity  -0.059176          0.221553          0.221553   \n",
              "miss_distance      -0.056510          0.142241          0.142241   \n",
              "sentry_object            NaN               NaN               NaN   \n",
              "absolute_magnitude  0.277258         -0.560188         -0.560188   \n",
              "hazardous          -0.123443          0.183363          0.183363   \n",
              "\n",
              "                    relative_velocity  miss_distance  sentry_object  \\\n",
              "id                          -0.059176      -0.056510            NaN   \n",
              "est_diameter_min             0.221553       0.142241            NaN   \n",
              "est_diameter_max             0.221553       0.142241            NaN   \n",
              "relative_velocity            1.000000       0.327169            NaN   \n",
              "miss_distance                0.327169       1.000000            NaN   \n",
              "sentry_object                     NaN            NaN            NaN   \n",
              "absolute_magnitude          -0.353863      -0.264168            NaN   \n",
              "hazardous                    0.191185       0.042302            NaN   \n",
              "\n",
              "                    absolute_magnitude  hazardous  \n",
              "id                            0.277258  -0.123443  \n",
              "est_diameter_min             -0.560188   0.183363  \n",
              "est_diameter_max             -0.560188   0.183363  \n",
              "relative_velocity            -0.353863   0.191185  \n",
              "miss_distance                -0.264168   0.042302  \n",
              "sentry_object                      NaN        NaN  \n",
              "absolute_magnitude            1.000000  -0.365267  \n",
              "hazardous                    -0.365267   1.000000  "
            ],
            "text/html": [
              "\n",
              "  <div id=\"df-d3666af8-efab-454e-a3d5-75fede4b35fe\">\n",
              "    <div class=\"colab-df-container\">\n",
              "      <div>\n",
              "<style scoped>\n",
              "    .dataframe tbody tr th:only-of-type {\n",
              "        vertical-align: middle;\n",
              "    }\n",
              "\n",
              "    .dataframe tbody tr th {\n",
              "        vertical-align: top;\n",
              "    }\n",
              "\n",
              "    .dataframe thead th {\n",
              "        text-align: right;\n",
              "    }\n",
              "</style>\n",
              "<table border=\"1\" class=\"dataframe\">\n",
              "  <thead>\n",
              "    <tr style=\"text-align: right;\">\n",
              "      <th></th>\n",
              "      <th>id</th>\n",
              "      <th>est_diameter_min</th>\n",
              "      <th>est_diameter_max</th>\n",
              "      <th>relative_velocity</th>\n",
              "      <th>miss_distance</th>\n",
              "      <th>sentry_object</th>\n",
              "      <th>absolute_magnitude</th>\n",
              "      <th>hazardous</th>\n",
              "    </tr>\n",
              "  </thead>\n",
              "  <tbody>\n",
              "    <tr>\n",
              "      <th>id</th>\n",
              "      <td>1.000000</td>\n",
              "      <td>-0.148322</td>\n",
              "      <td>-0.148322</td>\n",
              "      <td>-0.059176</td>\n",
              "      <td>-0.056510</td>\n",
              "      <td>NaN</td>\n",
              "      <td>0.277258</td>\n",
              "      <td>-0.123443</td>\n",
              "    </tr>\n",
              "    <tr>\n",
              "      <th>est_diameter_min</th>\n",
              "      <td>-0.148322</td>\n",
              "      <td>1.000000</td>\n",
              "      <td>1.000000</td>\n",
              "      <td>0.221553</td>\n",
              "      <td>0.142241</td>\n",
              "      <td>NaN</td>\n",
              "      <td>-0.560188</td>\n",
              "      <td>0.183363</td>\n",
              "    </tr>\n",
              "    <tr>\n",
              "      <th>est_diameter_max</th>\n",
              "      <td>-0.148322</td>\n",
              "      <td>1.000000</td>\n",
              "      <td>1.000000</td>\n",
              "      <td>0.221553</td>\n",
              "      <td>0.142241</td>\n",
              "      <td>NaN</td>\n",
              "      <td>-0.560188</td>\n",
              "      <td>0.183363</td>\n",
              "    </tr>\n",
              "    <tr>\n",
              "      <th>relative_velocity</th>\n",
              "      <td>-0.059176</td>\n",
              "      <td>0.221553</td>\n",
              "      <td>0.221553</td>\n",
              "      <td>1.000000</td>\n",
              "      <td>0.327169</td>\n",
              "      <td>NaN</td>\n",
              "      <td>-0.353863</td>\n",
              "      <td>0.191185</td>\n",
              "    </tr>\n",
              "    <tr>\n",
              "      <th>miss_distance</th>\n",
              "      <td>-0.056510</td>\n",
              "      <td>0.142241</td>\n",
              "      <td>0.142241</td>\n",
              "      <td>0.327169</td>\n",
              "      <td>1.000000</td>\n",
              "      <td>NaN</td>\n",
              "      <td>-0.264168</td>\n",
              "      <td>0.042302</td>\n",
              "    </tr>\n",
              "    <tr>\n",
              "      <th>sentry_object</th>\n",
              "      <td>NaN</td>\n",
              "      <td>NaN</td>\n",
              "      <td>NaN</td>\n",
              "      <td>NaN</td>\n",
              "      <td>NaN</td>\n",
              "      <td>NaN</td>\n",
              "      <td>NaN</td>\n",
              "      <td>NaN</td>\n",
              "    </tr>\n",
              "    <tr>\n",
              "      <th>absolute_magnitude</th>\n",
              "      <td>0.277258</td>\n",
              "      <td>-0.560188</td>\n",
              "      <td>-0.560188</td>\n",
              "      <td>-0.353863</td>\n",
              "      <td>-0.264168</td>\n",
              "      <td>NaN</td>\n",
              "      <td>1.000000</td>\n",
              "      <td>-0.365267</td>\n",
              "    </tr>\n",
              "    <tr>\n",
              "      <th>hazardous</th>\n",
              "      <td>-0.123443</td>\n",
              "      <td>0.183363</td>\n",
              "      <td>0.183363</td>\n",
              "      <td>0.191185</td>\n",
              "      <td>0.042302</td>\n",
              "      <td>NaN</td>\n",
              "      <td>-0.365267</td>\n",
              "      <td>1.000000</td>\n",
              "    </tr>\n",
              "  </tbody>\n",
              "</table>\n",
              "</div>\n",
              "      <button class=\"colab-df-convert\" onclick=\"convertToInteractive('df-d3666af8-efab-454e-a3d5-75fede4b35fe')\"\n",
              "              title=\"Convert this dataframe to an interactive table.\"\n",
              "              style=\"display:none;\">\n",
              "        \n",
              "  <svg xmlns=\"http://www.w3.org/2000/svg\" height=\"24px\"viewBox=\"0 0 24 24\"\n",
              "       width=\"24px\">\n",
              "    <path d=\"M0 0h24v24H0V0z\" fill=\"none\"/>\n",
              "    <path d=\"M18.56 5.44l.94 2.06.94-2.06 2.06-.94-2.06-.94-.94-2.06-.94 2.06-2.06.94zm-11 1L8.5 8.5l.94-2.06 2.06-.94-2.06-.94L8.5 2.5l-.94 2.06-2.06.94zm10 10l.94 2.06.94-2.06 2.06-.94-2.06-.94-.94-2.06-.94 2.06-2.06.94z\"/><path d=\"M17.41 7.96l-1.37-1.37c-.4-.4-.92-.59-1.43-.59-.52 0-1.04.2-1.43.59L10.3 9.45l-7.72 7.72c-.78.78-.78 2.05 0 2.83L4 21.41c.39.39.9.59 1.41.59.51 0 1.02-.2 1.41-.59l7.78-7.78 2.81-2.81c.8-.78.8-2.07 0-2.86zM5.41 20L4 18.59l7.72-7.72 1.47 1.35L5.41 20z\"/>\n",
              "  </svg>\n",
              "      </button>\n",
              "      \n",
              "  <style>\n",
              "    .colab-df-container {\n",
              "      display:flex;\n",
              "      flex-wrap:wrap;\n",
              "      gap: 12px;\n",
              "    }\n",
              "\n",
              "    .colab-df-convert {\n",
              "      background-color: #E8F0FE;\n",
              "      border: none;\n",
              "      border-radius: 50%;\n",
              "      cursor: pointer;\n",
              "      display: none;\n",
              "      fill: #1967D2;\n",
              "      height: 32px;\n",
              "      padding: 0 0 0 0;\n",
              "      width: 32px;\n",
              "    }\n",
              "\n",
              "    .colab-df-convert:hover {\n",
              "      background-color: #E2EBFA;\n",
              "      box-shadow: 0px 1px 2px rgba(60, 64, 67, 0.3), 0px 1px 3px 1px rgba(60, 64, 67, 0.15);\n",
              "      fill: #174EA6;\n",
              "    }\n",
              "\n",
              "    [theme=dark] .colab-df-convert {\n",
              "      background-color: #3B4455;\n",
              "      fill: #D2E3FC;\n",
              "    }\n",
              "\n",
              "    [theme=dark] .colab-df-convert:hover {\n",
              "      background-color: #434B5C;\n",
              "      box-shadow: 0px 1px 3px 1px rgba(0, 0, 0, 0.15);\n",
              "      filter: drop-shadow(0px 1px 2px rgba(0, 0, 0, 0.3));\n",
              "      fill: #FFFFFF;\n",
              "    }\n",
              "  </style>\n",
              "\n",
              "      <script>\n",
              "        const buttonEl =\n",
              "          document.querySelector('#df-d3666af8-efab-454e-a3d5-75fede4b35fe button.colab-df-convert');\n",
              "        buttonEl.style.display =\n",
              "          google.colab.kernel.accessAllowed ? 'block' : 'none';\n",
              "\n",
              "        async function convertToInteractive(key) {\n",
              "          const element = document.querySelector('#df-d3666af8-efab-454e-a3d5-75fede4b35fe');\n",
              "          const dataTable =\n",
              "            await google.colab.kernel.invokeFunction('convertToInteractive',\n",
              "                                                     [key], {});\n",
              "          if (!dataTable) return;\n",
              "\n",
              "          const docLinkHtml = 'Like what you see? Visit the ' +\n",
              "            '<a target=\"_blank\" href=https://colab.research.google.com/notebooks/data_table.ipynb>data table notebook</a>'\n",
              "            + ' to learn more about interactive tables.';\n",
              "          element.innerHTML = '';\n",
              "          dataTable['output_type'] = 'display_data';\n",
              "          await google.colab.output.renderOutput(dataTable, element);\n",
              "          const docLink = document.createElement('div');\n",
              "          docLink.innerHTML = docLinkHtml;\n",
              "          element.appendChild(docLink);\n",
              "        }\n",
              "      </script>\n",
              "    </div>\n",
              "  </div>\n",
              "  "
            ]
          },
          "metadata": {},
          "execution_count": 14
        }
      ]
    },
    {
      "cell_type": "markdown",
      "source": [
        "Correlation between columns in this dataset are generally low"
      ],
      "metadata": {
        "id": "BMczqARAvjyi"
      }
    },
    {
      "cell_type": "markdown",
      "source": [
        "# Machine Learning"
      ],
      "metadata": {
        "id": "Zy3-tJtDX7_q"
      }
    },
    {
      "cell_type": "code",
      "source": [
        "X = df[['est_diameter_min', 'est_diameter_max', 'relative_velocity', 'miss_distance', 'absolute_magnitude']]\n",
        "X.head()"
      ],
      "metadata": {
        "id": "D5J2EZUS1ZnV",
        "colab": {
          "base_uri": "https://localhost:8080/",
          "height": 206
        },
        "outputId": "830daa2d-ffae-4c07-f5ff-2d1878beffa1"
      },
      "execution_count": null,
      "outputs": [
        {
          "output_type": "execute_result",
          "data": {
            "text/plain": [
              "   est_diameter_min  est_diameter_max  relative_velocity  miss_distance  \\\n",
              "0          1.198271          2.679415       13569.249224   5.483974e+07   \n",
              "1          0.265800          0.594347       73588.726663   6.143813e+07   \n",
              "2          0.722030          1.614507      114258.692129   4.979872e+07   \n",
              "3          0.096506          0.215794       24764.303138   2.543497e+07   \n",
              "4          0.255009          0.570217       42737.733765   4.627557e+07   \n",
              "\n",
              "   absolute_magnitude  \n",
              "0               16.73  \n",
              "1               20.00  \n",
              "2               17.83  \n",
              "3               22.20  \n",
              "4               20.09  "
            ],
            "text/html": [
              "\n",
              "  <div id=\"df-7c5ba16a-3488-4cc8-8b18-fcfd3116c310\">\n",
              "    <div class=\"colab-df-container\">\n",
              "      <div>\n",
              "<style scoped>\n",
              "    .dataframe tbody tr th:only-of-type {\n",
              "        vertical-align: middle;\n",
              "    }\n",
              "\n",
              "    .dataframe tbody tr th {\n",
              "        vertical-align: top;\n",
              "    }\n",
              "\n",
              "    .dataframe thead th {\n",
              "        text-align: right;\n",
              "    }\n",
              "</style>\n",
              "<table border=\"1\" class=\"dataframe\">\n",
              "  <thead>\n",
              "    <tr style=\"text-align: right;\">\n",
              "      <th></th>\n",
              "      <th>est_diameter_min</th>\n",
              "      <th>est_diameter_max</th>\n",
              "      <th>relative_velocity</th>\n",
              "      <th>miss_distance</th>\n",
              "      <th>absolute_magnitude</th>\n",
              "    </tr>\n",
              "  </thead>\n",
              "  <tbody>\n",
              "    <tr>\n",
              "      <th>0</th>\n",
              "      <td>1.198271</td>\n",
              "      <td>2.679415</td>\n",
              "      <td>13569.249224</td>\n",
              "      <td>5.483974e+07</td>\n",
              "      <td>16.73</td>\n",
              "    </tr>\n",
              "    <tr>\n",
              "      <th>1</th>\n",
              "      <td>0.265800</td>\n",
              "      <td>0.594347</td>\n",
              "      <td>73588.726663</td>\n",
              "      <td>6.143813e+07</td>\n",
              "      <td>20.00</td>\n",
              "    </tr>\n",
              "    <tr>\n",
              "      <th>2</th>\n",
              "      <td>0.722030</td>\n",
              "      <td>1.614507</td>\n",
              "      <td>114258.692129</td>\n",
              "      <td>4.979872e+07</td>\n",
              "      <td>17.83</td>\n",
              "    </tr>\n",
              "    <tr>\n",
              "      <th>3</th>\n",
              "      <td>0.096506</td>\n",
              "      <td>0.215794</td>\n",
              "      <td>24764.303138</td>\n",
              "      <td>2.543497e+07</td>\n",
              "      <td>22.20</td>\n",
              "    </tr>\n",
              "    <tr>\n",
              "      <th>4</th>\n",
              "      <td>0.255009</td>\n",
              "      <td>0.570217</td>\n",
              "      <td>42737.733765</td>\n",
              "      <td>4.627557e+07</td>\n",
              "      <td>20.09</td>\n",
              "    </tr>\n",
              "  </tbody>\n",
              "</table>\n",
              "</div>\n",
              "      <button class=\"colab-df-convert\" onclick=\"convertToInteractive('df-7c5ba16a-3488-4cc8-8b18-fcfd3116c310')\"\n",
              "              title=\"Convert this dataframe to an interactive table.\"\n",
              "              style=\"display:none;\">\n",
              "        \n",
              "  <svg xmlns=\"http://www.w3.org/2000/svg\" height=\"24px\"viewBox=\"0 0 24 24\"\n",
              "       width=\"24px\">\n",
              "    <path d=\"M0 0h24v24H0V0z\" fill=\"none\"/>\n",
              "    <path d=\"M18.56 5.44l.94 2.06.94-2.06 2.06-.94-2.06-.94-.94-2.06-.94 2.06-2.06.94zm-11 1L8.5 8.5l.94-2.06 2.06-.94-2.06-.94L8.5 2.5l-.94 2.06-2.06.94zm10 10l.94 2.06.94-2.06 2.06-.94-2.06-.94-.94-2.06-.94 2.06-2.06.94z\"/><path d=\"M17.41 7.96l-1.37-1.37c-.4-.4-.92-.59-1.43-.59-.52 0-1.04.2-1.43.59L10.3 9.45l-7.72 7.72c-.78.78-.78 2.05 0 2.83L4 21.41c.39.39.9.59 1.41.59.51 0 1.02-.2 1.41-.59l7.78-7.78 2.81-2.81c.8-.78.8-2.07 0-2.86zM5.41 20L4 18.59l7.72-7.72 1.47 1.35L5.41 20z\"/>\n",
              "  </svg>\n",
              "      </button>\n",
              "      \n",
              "  <style>\n",
              "    .colab-df-container {\n",
              "      display:flex;\n",
              "      flex-wrap:wrap;\n",
              "      gap: 12px;\n",
              "    }\n",
              "\n",
              "    .colab-df-convert {\n",
              "      background-color: #E8F0FE;\n",
              "      border: none;\n",
              "      border-radius: 50%;\n",
              "      cursor: pointer;\n",
              "      display: none;\n",
              "      fill: #1967D2;\n",
              "      height: 32px;\n",
              "      padding: 0 0 0 0;\n",
              "      width: 32px;\n",
              "    }\n",
              "\n",
              "    .colab-df-convert:hover {\n",
              "      background-color: #E2EBFA;\n",
              "      box-shadow: 0px 1px 2px rgba(60, 64, 67, 0.3), 0px 1px 3px 1px rgba(60, 64, 67, 0.15);\n",
              "      fill: #174EA6;\n",
              "    }\n",
              "\n",
              "    [theme=dark] .colab-df-convert {\n",
              "      background-color: #3B4455;\n",
              "      fill: #D2E3FC;\n",
              "    }\n",
              "\n",
              "    [theme=dark] .colab-df-convert:hover {\n",
              "      background-color: #434B5C;\n",
              "      box-shadow: 0px 1px 3px 1px rgba(0, 0, 0, 0.15);\n",
              "      filter: drop-shadow(0px 1px 2px rgba(0, 0, 0, 0.3));\n",
              "      fill: #FFFFFF;\n",
              "    }\n",
              "  </style>\n",
              "\n",
              "      <script>\n",
              "        const buttonEl =\n",
              "          document.querySelector('#df-7c5ba16a-3488-4cc8-8b18-fcfd3116c310 button.colab-df-convert');\n",
              "        buttonEl.style.display =\n",
              "          google.colab.kernel.accessAllowed ? 'block' : 'none';\n",
              "\n",
              "        async function convertToInteractive(key) {\n",
              "          const element = document.querySelector('#df-7c5ba16a-3488-4cc8-8b18-fcfd3116c310');\n",
              "          const dataTable =\n",
              "            await google.colab.kernel.invokeFunction('convertToInteractive',\n",
              "                                                     [key], {});\n",
              "          if (!dataTable) return;\n",
              "\n",
              "          const docLinkHtml = 'Like what you see? Visit the ' +\n",
              "            '<a target=\"_blank\" href=https://colab.research.google.com/notebooks/data_table.ipynb>data table notebook</a>'\n",
              "            + ' to learn more about interactive tables.';\n",
              "          element.innerHTML = '';\n",
              "          dataTable['output_type'] = 'display_data';\n",
              "          await google.colab.output.renderOutput(dataTable, element);\n",
              "          const docLink = document.createElement('div');\n",
              "          docLink.innerHTML = docLinkHtml;\n",
              "          element.appendChild(docLink);\n",
              "        }\n",
              "      </script>\n",
              "    </div>\n",
              "  </div>\n",
              "  "
            ]
          },
          "metadata": {},
          "execution_count": 23
        }
      ]
    },
    {
      "cell_type": "code",
      "source": [
        "y = df[['hazardous']]\n",
        "y.head()"
      ],
      "metadata": {
        "colab": {
          "base_uri": "https://localhost:8080/",
          "height": 206
        },
        "id": "dEQ-WJCdwa0z",
        "outputId": "a267ecba-6c28-4fa1-d261-c67b30eaf9a4"
      },
      "execution_count": null,
      "outputs": [
        {
          "output_type": "execute_result",
          "data": {
            "text/plain": [
              "   hazardous\n",
              "0      False\n",
              "1       True\n",
              "2      False\n",
              "3      False\n",
              "4       True"
            ],
            "text/html": [
              "\n",
              "  <div id=\"df-d179ac4d-9400-43ac-8f62-b93db534480e\">\n",
              "    <div class=\"colab-df-container\">\n",
              "      <div>\n",
              "<style scoped>\n",
              "    .dataframe tbody tr th:only-of-type {\n",
              "        vertical-align: middle;\n",
              "    }\n",
              "\n",
              "    .dataframe tbody tr th {\n",
              "        vertical-align: top;\n",
              "    }\n",
              "\n",
              "    .dataframe thead th {\n",
              "        text-align: right;\n",
              "    }\n",
              "</style>\n",
              "<table border=\"1\" class=\"dataframe\">\n",
              "  <thead>\n",
              "    <tr style=\"text-align: right;\">\n",
              "      <th></th>\n",
              "      <th>hazardous</th>\n",
              "    </tr>\n",
              "  </thead>\n",
              "  <tbody>\n",
              "    <tr>\n",
              "      <th>0</th>\n",
              "      <td>False</td>\n",
              "    </tr>\n",
              "    <tr>\n",
              "      <th>1</th>\n",
              "      <td>True</td>\n",
              "    </tr>\n",
              "    <tr>\n",
              "      <th>2</th>\n",
              "      <td>False</td>\n",
              "    </tr>\n",
              "    <tr>\n",
              "      <th>3</th>\n",
              "      <td>False</td>\n",
              "    </tr>\n",
              "    <tr>\n",
              "      <th>4</th>\n",
              "      <td>True</td>\n",
              "    </tr>\n",
              "  </tbody>\n",
              "</table>\n",
              "</div>\n",
              "      <button class=\"colab-df-convert\" onclick=\"convertToInteractive('df-d179ac4d-9400-43ac-8f62-b93db534480e')\"\n",
              "              title=\"Convert this dataframe to an interactive table.\"\n",
              "              style=\"display:none;\">\n",
              "        \n",
              "  <svg xmlns=\"http://www.w3.org/2000/svg\" height=\"24px\"viewBox=\"0 0 24 24\"\n",
              "       width=\"24px\">\n",
              "    <path d=\"M0 0h24v24H0V0z\" fill=\"none\"/>\n",
              "    <path d=\"M18.56 5.44l.94 2.06.94-2.06 2.06-.94-2.06-.94-.94-2.06-.94 2.06-2.06.94zm-11 1L8.5 8.5l.94-2.06 2.06-.94-2.06-.94L8.5 2.5l-.94 2.06-2.06.94zm10 10l.94 2.06.94-2.06 2.06-.94-2.06-.94-.94-2.06-.94 2.06-2.06.94z\"/><path d=\"M17.41 7.96l-1.37-1.37c-.4-.4-.92-.59-1.43-.59-.52 0-1.04.2-1.43.59L10.3 9.45l-7.72 7.72c-.78.78-.78 2.05 0 2.83L4 21.41c.39.39.9.59 1.41.59.51 0 1.02-.2 1.41-.59l7.78-7.78 2.81-2.81c.8-.78.8-2.07 0-2.86zM5.41 20L4 18.59l7.72-7.72 1.47 1.35L5.41 20z\"/>\n",
              "  </svg>\n",
              "      </button>\n",
              "      \n",
              "  <style>\n",
              "    .colab-df-container {\n",
              "      display:flex;\n",
              "      flex-wrap:wrap;\n",
              "      gap: 12px;\n",
              "    }\n",
              "\n",
              "    .colab-df-convert {\n",
              "      background-color: #E8F0FE;\n",
              "      border: none;\n",
              "      border-radius: 50%;\n",
              "      cursor: pointer;\n",
              "      display: none;\n",
              "      fill: #1967D2;\n",
              "      height: 32px;\n",
              "      padding: 0 0 0 0;\n",
              "      width: 32px;\n",
              "    }\n",
              "\n",
              "    .colab-df-convert:hover {\n",
              "      background-color: #E2EBFA;\n",
              "      box-shadow: 0px 1px 2px rgba(60, 64, 67, 0.3), 0px 1px 3px 1px rgba(60, 64, 67, 0.15);\n",
              "      fill: #174EA6;\n",
              "    }\n",
              "\n",
              "    [theme=dark] .colab-df-convert {\n",
              "      background-color: #3B4455;\n",
              "      fill: #D2E3FC;\n",
              "    }\n",
              "\n",
              "    [theme=dark] .colab-df-convert:hover {\n",
              "      background-color: #434B5C;\n",
              "      box-shadow: 0px 1px 3px 1px rgba(0, 0, 0, 0.15);\n",
              "      filter: drop-shadow(0px 1px 2px rgba(0, 0, 0, 0.3));\n",
              "      fill: #FFFFFF;\n",
              "    }\n",
              "  </style>\n",
              "\n",
              "      <script>\n",
              "        const buttonEl =\n",
              "          document.querySelector('#df-d179ac4d-9400-43ac-8f62-b93db534480e button.colab-df-convert');\n",
              "        buttonEl.style.display =\n",
              "          google.colab.kernel.accessAllowed ? 'block' : 'none';\n",
              "\n",
              "        async function convertToInteractive(key) {\n",
              "          const element = document.querySelector('#df-d179ac4d-9400-43ac-8f62-b93db534480e');\n",
              "          const dataTable =\n",
              "            await google.colab.kernel.invokeFunction('convertToInteractive',\n",
              "                                                     [key], {});\n",
              "          if (!dataTable) return;\n",
              "\n",
              "          const docLinkHtml = 'Like what you see? Visit the ' +\n",
              "            '<a target=\"_blank\" href=https://colab.research.google.com/notebooks/data_table.ipynb>data table notebook</a>'\n",
              "            + ' to learn more about interactive tables.';\n",
              "          element.innerHTML = '';\n",
              "          dataTable['output_type'] = 'display_data';\n",
              "          await google.colab.output.renderOutput(dataTable, element);\n",
              "          const docLink = document.createElement('div');\n",
              "          docLink.innerHTML = docLinkHtml;\n",
              "          element.appendChild(docLink);\n",
              "        }\n",
              "      </script>\n",
              "    </div>\n",
              "  </div>\n",
              "  "
            ]
          },
          "metadata": {},
          "execution_count": 24
        }
      ]
    },
    {
      "cell_type": "markdown",
      "source": [
        "## Linear Regression"
      ],
      "metadata": {
        "id": "Qz_OT55ioSLf"
      }
    },
    {
      "cell_type": "code",
      "source": [
        "from sklearn.linear_model import LinearRegression"
      ],
      "metadata": {
        "id": "LZluwtLooUEM"
      },
      "execution_count": null,
      "outputs": []
    },
    {
      "cell_type": "code",
      "source": [
        "model = LinearRegression()\n",
        "model.fit(X,y)"
      ],
      "metadata": {
        "colab": {
          "base_uri": "https://localhost:8080/"
        },
        "id": "l3SxFoFzrZp0",
        "outputId": "c9cb96c2-caf8-402e-dba8-05817f961032"
      },
      "execution_count": null,
      "outputs": [
        {
          "output_type": "execute_result",
          "data": {
            "text/plain": [
              "LinearRegression()"
            ]
          },
          "metadata": {},
          "execution_count": 16
        }
      ]
    },
    {
      "cell_type": "code",
      "source": [
        "model.score(X,y)"
      ],
      "metadata": {
        "colab": {
          "base_uri": "https://localhost:8080/"
        },
        "id": "edR8P6SHotM8",
        "outputId": "fceb2a1a-c3c2-406a-f383-3513b0601977"
      },
      "execution_count": null,
      "outputs": [
        {
          "output_type": "execute_result",
          "data": {
            "text/plain": [
              "0.1444018992814463"
            ]
          },
          "metadata": {},
          "execution_count": 17
        }
      ]
    },
    {
      "cell_type": "markdown",
      "source": [
        "Linear Regression gives a very bad score because this data requires a classifier, not a regressor"
      ],
      "metadata": {
        "id": "QgCTlbjYYhH5"
      }
    },
    {
      "cell_type": "code",
      "source": [
        "index = [4,6,8,10,12]\n",
        "model.predict(X.iloc[index])"
      ],
      "metadata": {
        "colab": {
          "base_uri": "https://localhost:8080/"
        },
        "id": "8g6wRVtFouX7",
        "outputId": "fdcc178d-04af-42e1-cc40-cc64267b4918"
      },
      "execution_count": null,
      "outputs": [
        {
          "output_type": "execute_result",
          "data": {
            "text/plain": [
              "array([[0.20845351],\n",
              "       [0.18048042],\n",
              "       [0.22202478],\n",
              "       [0.23361777],\n",
              "       [0.09592213]])"
            ]
          },
          "metadata": {},
          "execution_count": 18
        }
      ]
    },
    {
      "cell_type": "markdown",
      "source": [
        "Prediction came out weird as it is in a range, not as a 1 or 0"
      ],
      "metadata": {
        "id": "vGOlrFayYKmq"
      }
    },
    {
      "cell_type": "code",
      "source": [
        "y.iloc[index]"
      ],
      "metadata": {
        "colab": {
          "base_uri": "https://localhost:8080/",
          "height": 206
        },
        "id": "8ezlO0ffpTML",
        "outputId": "afa61304-1a37-449d-aa76-e86ee7dce9b4"
      },
      "execution_count": null,
      "outputs": [
        {
          "output_type": "execute_result",
          "data": {
            "text/plain": [
              "    hazardous\n",
              "4        True\n",
              "6       False\n",
              "8       False\n",
              "10       True\n",
              "12      False"
            ],
            "text/html": [
              "\n",
              "  <div id=\"df-509f1a4b-4e91-4886-a153-dbbdda9e574d\">\n",
              "    <div class=\"colab-df-container\">\n",
              "      <div>\n",
              "<style scoped>\n",
              "    .dataframe tbody tr th:only-of-type {\n",
              "        vertical-align: middle;\n",
              "    }\n",
              "\n",
              "    .dataframe tbody tr th {\n",
              "        vertical-align: top;\n",
              "    }\n",
              "\n",
              "    .dataframe thead th {\n",
              "        text-align: right;\n",
              "    }\n",
              "</style>\n",
              "<table border=\"1\" class=\"dataframe\">\n",
              "  <thead>\n",
              "    <tr style=\"text-align: right;\">\n",
              "      <th></th>\n",
              "      <th>hazardous</th>\n",
              "    </tr>\n",
              "  </thead>\n",
              "  <tbody>\n",
              "    <tr>\n",
              "      <th>4</th>\n",
              "      <td>True</td>\n",
              "    </tr>\n",
              "    <tr>\n",
              "      <th>6</th>\n",
              "      <td>False</td>\n",
              "    </tr>\n",
              "    <tr>\n",
              "      <th>8</th>\n",
              "      <td>False</td>\n",
              "    </tr>\n",
              "    <tr>\n",
              "      <th>10</th>\n",
              "      <td>True</td>\n",
              "    </tr>\n",
              "    <tr>\n",
              "      <th>12</th>\n",
              "      <td>False</td>\n",
              "    </tr>\n",
              "  </tbody>\n",
              "</table>\n",
              "</div>\n",
              "      <button class=\"colab-df-convert\" onclick=\"convertToInteractive('df-509f1a4b-4e91-4886-a153-dbbdda9e574d')\"\n",
              "              title=\"Convert this dataframe to an interactive table.\"\n",
              "              style=\"display:none;\">\n",
              "        \n",
              "  <svg xmlns=\"http://www.w3.org/2000/svg\" height=\"24px\"viewBox=\"0 0 24 24\"\n",
              "       width=\"24px\">\n",
              "    <path d=\"M0 0h24v24H0V0z\" fill=\"none\"/>\n",
              "    <path d=\"M18.56 5.44l.94 2.06.94-2.06 2.06-.94-2.06-.94-.94-2.06-.94 2.06-2.06.94zm-11 1L8.5 8.5l.94-2.06 2.06-.94-2.06-.94L8.5 2.5l-.94 2.06-2.06.94zm10 10l.94 2.06.94-2.06 2.06-.94-2.06-.94-.94-2.06-.94 2.06-2.06.94z\"/><path d=\"M17.41 7.96l-1.37-1.37c-.4-.4-.92-.59-1.43-.59-.52 0-1.04.2-1.43.59L10.3 9.45l-7.72 7.72c-.78.78-.78 2.05 0 2.83L4 21.41c.39.39.9.59 1.41.59.51 0 1.02-.2 1.41-.59l7.78-7.78 2.81-2.81c.8-.78.8-2.07 0-2.86zM5.41 20L4 18.59l7.72-7.72 1.47 1.35L5.41 20z\"/>\n",
              "  </svg>\n",
              "      </button>\n",
              "      \n",
              "  <style>\n",
              "    .colab-df-container {\n",
              "      display:flex;\n",
              "      flex-wrap:wrap;\n",
              "      gap: 12px;\n",
              "    }\n",
              "\n",
              "    .colab-df-convert {\n",
              "      background-color: #E8F0FE;\n",
              "      border: none;\n",
              "      border-radius: 50%;\n",
              "      cursor: pointer;\n",
              "      display: none;\n",
              "      fill: #1967D2;\n",
              "      height: 32px;\n",
              "      padding: 0 0 0 0;\n",
              "      width: 32px;\n",
              "    }\n",
              "\n",
              "    .colab-df-convert:hover {\n",
              "      background-color: #E2EBFA;\n",
              "      box-shadow: 0px 1px 2px rgba(60, 64, 67, 0.3), 0px 1px 3px 1px rgba(60, 64, 67, 0.15);\n",
              "      fill: #174EA6;\n",
              "    }\n",
              "\n",
              "    [theme=dark] .colab-df-convert {\n",
              "      background-color: #3B4455;\n",
              "      fill: #D2E3FC;\n",
              "    }\n",
              "\n",
              "    [theme=dark] .colab-df-convert:hover {\n",
              "      background-color: #434B5C;\n",
              "      box-shadow: 0px 1px 3px 1px rgba(0, 0, 0, 0.15);\n",
              "      filter: drop-shadow(0px 1px 2px rgba(0, 0, 0, 0.3));\n",
              "      fill: #FFFFFF;\n",
              "    }\n",
              "  </style>\n",
              "\n",
              "      <script>\n",
              "        const buttonEl =\n",
              "          document.querySelector('#df-509f1a4b-4e91-4886-a153-dbbdda9e574d button.colab-df-convert');\n",
              "        buttonEl.style.display =\n",
              "          google.colab.kernel.accessAllowed ? 'block' : 'none';\n",
              "\n",
              "        async function convertToInteractive(key) {\n",
              "          const element = document.querySelector('#df-509f1a4b-4e91-4886-a153-dbbdda9e574d');\n",
              "          const dataTable =\n",
              "            await google.colab.kernel.invokeFunction('convertToInteractive',\n",
              "                                                     [key], {});\n",
              "          if (!dataTable) return;\n",
              "\n",
              "          const docLinkHtml = 'Like what you see? Visit the ' +\n",
              "            '<a target=\"_blank\" href=https://colab.research.google.com/notebooks/data_table.ipynb>data table notebook</a>'\n",
              "            + ' to learn more about interactive tables.';\n",
              "          element.innerHTML = '';\n",
              "          dataTable['output_type'] = 'display_data';\n",
              "          await google.colab.output.renderOutput(dataTable, element);\n",
              "          const docLink = document.createElement('div');\n",
              "          docLink.innerHTML = docLinkHtml;\n",
              "          element.appendChild(docLink);\n",
              "        }\n",
              "      </script>\n",
              "    </div>\n",
              "  </div>\n",
              "  "
            ]
          },
          "metadata": {},
          "execution_count": 19
        }
      ]
    },
    {
      "cell_type": "markdown",
      "source": [
        "## Logistic Regression"
      ],
      "metadata": {
        "id": "HHt-3okArGHM"
      }
    },
    {
      "cell_type": "code",
      "source": [
        "from sklearn.linear_model import LogisticRegression"
      ],
      "metadata": {
        "id": "QySaNA19rKGp"
      },
      "execution_count": null,
      "outputs": []
    },
    {
      "cell_type": "code",
      "source": [
        "model = LogisticRegression()\n",
        "model.fit(X,y.values.ravel())"
      ],
      "metadata": {
        "colab": {
          "base_uri": "https://localhost:8080/"
        },
        "id": "sz25hkPNrQ0o",
        "outputId": "48787054-c183-47f1-c10a-6d18f0b159f9"
      },
      "execution_count": null,
      "outputs": [
        {
          "output_type": "execute_result",
          "data": {
            "text/plain": [
              "LogisticRegression()"
            ]
          },
          "metadata": {},
          "execution_count": 21
        }
      ]
    },
    {
      "cell_type": "code",
      "source": [
        "model.score(X,y)"
      ],
      "metadata": {
        "colab": {
          "base_uri": "https://localhost:8080/"
        },
        "id": "in-exlkxrXSh",
        "outputId": "cdc03222-57eb-4b6c-9c85-0aae00a189da"
      },
      "execution_count": null,
      "outputs": [
        {
          "output_type": "execute_result",
          "data": {
            "text/plain": [
              "0.90268175613193"
            ]
          },
          "metadata": {},
          "execution_count": 22
        }
      ]
    },
    {
      "cell_type": "markdown",
      "source": [
        "A very good score however, there is a problem which will appear later"
      ],
      "metadata": {
        "id": "BFw3z5ODYeqP"
      }
    },
    {
      "cell_type": "code",
      "source": [
        "model.predict(X.iloc[index])"
      ],
      "metadata": {
        "colab": {
          "base_uri": "https://localhost:8080/"
        },
        "id": "uwfoOoFtr4F4",
        "outputId": "4a47f457-d346-4cc8-c05b-7a987c786052"
      },
      "execution_count": null,
      "outputs": [
        {
          "output_type": "execute_result",
          "data": {
            "text/plain": [
              "array([False, False, False, False, False])"
            ]
          },
          "metadata": {},
          "execution_count": 23
        }
      ]
    },
    {
      "cell_type": "code",
      "source": [
        "y.iloc[index]"
      ],
      "metadata": {
        "colab": {
          "base_uri": "https://localhost:8080/",
          "height": 206
        },
        "id": "Ak4pxbdpsKxJ",
        "outputId": "3708a7e7-a094-4346-e7d5-f30c7ac141d4"
      },
      "execution_count": null,
      "outputs": [
        {
          "output_type": "execute_result",
          "data": {
            "text/plain": [
              "    hazardous\n",
              "4        True\n",
              "6       False\n",
              "8       False\n",
              "10       True\n",
              "12      False"
            ],
            "text/html": [
              "\n",
              "  <div id=\"df-86d6ec1b-4c70-4d8e-8566-b3a69a1cfa96\">\n",
              "    <div class=\"colab-df-container\">\n",
              "      <div>\n",
              "<style scoped>\n",
              "    .dataframe tbody tr th:only-of-type {\n",
              "        vertical-align: middle;\n",
              "    }\n",
              "\n",
              "    .dataframe tbody tr th {\n",
              "        vertical-align: top;\n",
              "    }\n",
              "\n",
              "    .dataframe thead th {\n",
              "        text-align: right;\n",
              "    }\n",
              "</style>\n",
              "<table border=\"1\" class=\"dataframe\">\n",
              "  <thead>\n",
              "    <tr style=\"text-align: right;\">\n",
              "      <th></th>\n",
              "      <th>hazardous</th>\n",
              "    </tr>\n",
              "  </thead>\n",
              "  <tbody>\n",
              "    <tr>\n",
              "      <th>4</th>\n",
              "      <td>True</td>\n",
              "    </tr>\n",
              "    <tr>\n",
              "      <th>6</th>\n",
              "      <td>False</td>\n",
              "    </tr>\n",
              "    <tr>\n",
              "      <th>8</th>\n",
              "      <td>False</td>\n",
              "    </tr>\n",
              "    <tr>\n",
              "      <th>10</th>\n",
              "      <td>True</td>\n",
              "    </tr>\n",
              "    <tr>\n",
              "      <th>12</th>\n",
              "      <td>False</td>\n",
              "    </tr>\n",
              "  </tbody>\n",
              "</table>\n",
              "</div>\n",
              "      <button class=\"colab-df-convert\" onclick=\"convertToInteractive('df-86d6ec1b-4c70-4d8e-8566-b3a69a1cfa96')\"\n",
              "              title=\"Convert this dataframe to an interactive table.\"\n",
              "              style=\"display:none;\">\n",
              "        \n",
              "  <svg xmlns=\"http://www.w3.org/2000/svg\" height=\"24px\"viewBox=\"0 0 24 24\"\n",
              "       width=\"24px\">\n",
              "    <path d=\"M0 0h24v24H0V0z\" fill=\"none\"/>\n",
              "    <path d=\"M18.56 5.44l.94 2.06.94-2.06 2.06-.94-2.06-.94-.94-2.06-.94 2.06-2.06.94zm-11 1L8.5 8.5l.94-2.06 2.06-.94-2.06-.94L8.5 2.5l-.94 2.06-2.06.94zm10 10l.94 2.06.94-2.06 2.06-.94-2.06-.94-.94-2.06-.94 2.06-2.06.94z\"/><path d=\"M17.41 7.96l-1.37-1.37c-.4-.4-.92-.59-1.43-.59-.52 0-1.04.2-1.43.59L10.3 9.45l-7.72 7.72c-.78.78-.78 2.05 0 2.83L4 21.41c.39.39.9.59 1.41.59.51 0 1.02-.2 1.41-.59l7.78-7.78 2.81-2.81c.8-.78.8-2.07 0-2.86zM5.41 20L4 18.59l7.72-7.72 1.47 1.35L5.41 20z\"/>\n",
              "  </svg>\n",
              "      </button>\n",
              "      \n",
              "  <style>\n",
              "    .colab-df-container {\n",
              "      display:flex;\n",
              "      flex-wrap:wrap;\n",
              "      gap: 12px;\n",
              "    }\n",
              "\n",
              "    .colab-df-convert {\n",
              "      background-color: #E8F0FE;\n",
              "      border: none;\n",
              "      border-radius: 50%;\n",
              "      cursor: pointer;\n",
              "      display: none;\n",
              "      fill: #1967D2;\n",
              "      height: 32px;\n",
              "      padding: 0 0 0 0;\n",
              "      width: 32px;\n",
              "    }\n",
              "\n",
              "    .colab-df-convert:hover {\n",
              "      background-color: #E2EBFA;\n",
              "      box-shadow: 0px 1px 2px rgba(60, 64, 67, 0.3), 0px 1px 3px 1px rgba(60, 64, 67, 0.15);\n",
              "      fill: #174EA6;\n",
              "    }\n",
              "\n",
              "    [theme=dark] .colab-df-convert {\n",
              "      background-color: #3B4455;\n",
              "      fill: #D2E3FC;\n",
              "    }\n",
              "\n",
              "    [theme=dark] .colab-df-convert:hover {\n",
              "      background-color: #434B5C;\n",
              "      box-shadow: 0px 1px 3px 1px rgba(0, 0, 0, 0.15);\n",
              "      filter: drop-shadow(0px 1px 2px rgba(0, 0, 0, 0.3));\n",
              "      fill: #FFFFFF;\n",
              "    }\n",
              "  </style>\n",
              "\n",
              "      <script>\n",
              "        const buttonEl =\n",
              "          document.querySelector('#df-86d6ec1b-4c70-4d8e-8566-b3a69a1cfa96 button.colab-df-convert');\n",
              "        buttonEl.style.display =\n",
              "          google.colab.kernel.accessAllowed ? 'block' : 'none';\n",
              "\n",
              "        async function convertToInteractive(key) {\n",
              "          const element = document.querySelector('#df-86d6ec1b-4c70-4d8e-8566-b3a69a1cfa96');\n",
              "          const dataTable =\n",
              "            await google.colab.kernel.invokeFunction('convertToInteractive',\n",
              "                                                     [key], {});\n",
              "          if (!dataTable) return;\n",
              "\n",
              "          const docLinkHtml = 'Like what you see? Visit the ' +\n",
              "            '<a target=\"_blank\" href=https://colab.research.google.com/notebooks/data_table.ipynb>data table notebook</a>'\n",
              "            + ' to learn more about interactive tables.';\n",
              "          element.innerHTML = '';\n",
              "          dataTable['output_type'] = 'display_data';\n",
              "          await google.colab.output.renderOutput(dataTable, element);\n",
              "          const docLink = document.createElement('div');\n",
              "          docLink.innerHTML = docLinkHtml;\n",
              "          element.appendChild(docLink);\n",
              "        }\n",
              "      </script>\n",
              "    </div>\n",
              "  </div>\n",
              "  "
            ]
          },
          "metadata": {},
          "execution_count": 24
        }
      ]
    },
    {
      "cell_type": "code",
      "source": [
        "model.predict_proba(X.iloc[index])"
      ],
      "metadata": {
        "colab": {
          "base_uri": "https://localhost:8080/"
        },
        "id": "c-c6TGswsVUI",
        "outputId": "b315746f-2da3-4703-bdea-3fb8d17a644f"
      },
      "execution_count": null,
      "outputs": [
        {
          "output_type": "execute_result",
          "data": {
            "text/plain": [
              "array([[0.88805269, 0.11194731],\n",
              "       [0.78789034, 0.21210966],\n",
              "       [0.95127025, 0.04872975],\n",
              "       [0.8906094 , 0.1093906 ],\n",
              "       [0.89699327, 0.10300673]])"
            ]
          },
          "metadata": {},
          "execution_count": 25
        }
      ]
    },
    {
      "cell_type": "code",
      "source": [
        "pd.Series(data=model.predict(X)).value_counts()"
      ],
      "metadata": {
        "colab": {
          "base_uri": "https://localhost:8080/"
        },
        "id": "X-vPzu7GsL3g",
        "outputId": "6c436df2-32e3-4cfd-bc1d-cc967a44f8bb"
      },
      "execution_count": null,
      "outputs": [
        {
          "output_type": "execute_result",
          "data": {
            "text/plain": [
              "False    90836\n",
              "dtype: int64"
            ]
          },
          "metadata": {},
          "execution_count": 26
        }
      ]
    },
    {
      "cell_type": "markdown",
      "source": [
        "When running predictions on every row prediction is always False which may be caused by an imbalanced sample"
      ],
      "metadata": {
        "id": "0HQRWitVZHYN"
      }
    },
    {
      "cell_type": "markdown",
      "source": [
        "## K Nearest Neighbors"
      ],
      "metadata": {
        "id": "kT7lhp9Em_EW"
      }
    },
    {
      "cell_type": "code",
      "source": [
        "from sklearn.model_selection import train_test_split\n",
        "from sklearn.metrics import roc_auc_score, accuracy_score, f1_score, recall_score, precision_score, confusion_matrix, classification_report\n",
        "X_train, X_test, y_train, y_test = train_test_split(X, y)\n",
        "\n",
        "# fits model using regular training data\n",
        "def fit_model(model):\n",
        "  model.fit(X_train, y_train.values.ravel())\n",
        "  return model"
      ],
      "metadata": {
        "id": "Gvg11C9onBc6"
      },
      "execution_count": null,
      "outputs": []
    },
    {
      "cell_type": "markdown",
      "source": [
        "From now on when scoring a model this function will be used for convenience.<br>The data used will also be split into training and testing sets however, the unbalanced data set problem has yet to be addressed"
      ],
      "metadata": {
        "id": "5m2Uo02vqF8F"
      }
    },
    {
      "cell_type": "code",
      "source": [
        "# puts the model through different scoring metrics\n",
        "def score_model(model):\n",
        "  y_pred = model.predict(X_test)\n",
        "  print(f'accuracy: {accuracy_score(y_test, y_pred)}')\n",
        "  print(f'f1: {f1_score(y_test, y_pred)}')\n",
        "  print(f'roc_auc: {roc_auc_score(y_test, y_pred)}')\n",
        "  print(confusion_matrix(y_test, y_pred))"
      ],
      "metadata": {
        "id": "v03RwMV2lDIn"
      },
      "execution_count": null,
      "outputs": []
    },
    {
      "cell_type": "code",
      "source": [
        "from sklearn.neighbors import KNeighborsClassifier"
      ],
      "metadata": {
        "id": "QUX4n6I6qPet"
      },
      "execution_count": null,
      "outputs": []
    },
    {
      "cell_type": "code",
      "source": [
        "m = fit_model(KNeighborsClassifier())\n",
        "score_model(m)"
      ],
      "metadata": {
        "id": "njpd6UNCC9Mj",
        "colab": {
          "base_uri": "https://localhost:8080/"
        },
        "outputId": "2b61079b-0347-4e68-faba-3ee6acf2f4f4"
      },
      "execution_count": null,
      "outputs": [
        {
          "output_type": "stream",
          "name": "stdout",
          "text": [
            "accuracy: 0.8961204808666168\n",
            "f1: 0.059034702832070206\n",
            "roc_auc: 0.5108919311743978\n",
            "[[20276   248]\n",
            " [ 2111    74]]\n"
          ]
        }
      ]
    },
    {
      "cell_type": "code",
      "source": [
        "m = fit_model(KNeighborsClassifier(n_neighbors=10))\n",
        "score_model(m)"
      ],
      "metadata": {
        "colab": {
          "base_uri": "https://localhost:8080/"
        },
        "id": "ZkdE-VPBk2cm",
        "outputId": "f1d6d066-ad1d-4f81-f8bf-70fe19a8c6c3"
      },
      "execution_count": null,
      "outputs": [
        {
          "output_type": "stream",
          "name": "stdout",
          "text": [
            "accuracy: 0.903342287198908\n",
            "f1: 0.0018190086402910413\n",
            "roc_auc: 0.5001653252295577\n",
            "[[20512    12]\n",
            " [ 2183     2]]\n"
          ]
        }
      ]
    },
    {
      "cell_type": "markdown",
      "source": [
        "## Decision Tree"
      ],
      "metadata": {
        "id": "6pV5o-qqnCcQ"
      }
    },
    {
      "cell_type": "code",
      "source": [
        "from sklearn.tree import DecisionTreeClassifier"
      ],
      "metadata": {
        "id": "M_zzpqpunDlx"
      },
      "execution_count": null,
      "outputs": []
    },
    {
      "cell_type": "code",
      "source": [
        "m = fit_model(DecisionTreeClassifier())\n",
        "score_model(m)"
      ],
      "metadata": {
        "colab": {
          "base_uri": "https://localhost:8080/"
        },
        "id": "BcpRCJdDluz-",
        "outputId": "6c21e338-2269-46b1-9763-df9b2d4dcc4c"
      },
      "execution_count": null,
      "outputs": [
        {
          "output_type": "stream",
          "name": "stdout",
          "text": [
            "accuracy: 0.8958562684398256\n",
            "f1: 0.4621332726859222\n",
            "roc_auc: 0.7033576586343967\n",
            "[[19328  1196]\n",
            " [ 1169  1016]]\n"
          ]
        }
      ]
    },
    {
      "cell_type": "code",
      "source": [
        "m = fit_model(DecisionTreeClassifier(max_depth=100))\n",
        "score_model(m)"
      ],
      "metadata": {
        "colab": {
          "base_uri": "https://localhost:8080/"
        },
        "id": "b0dxlKPWl4Lv",
        "outputId": "a6ed5656-a087-4eff-9240-4b940fa77620"
      },
      "execution_count": null,
      "outputs": [
        {
          "output_type": "stream",
          "name": "stdout",
          "text": [
            "accuracy: 0.895019595754987\n",
            "f1: 0.4567000911577028\n",
            "roc_auc: 0.7000321886928603\n",
            "[[19323  1201]\n",
            " [ 1183  1002]]\n"
          ]
        }
      ]
    },
    {
      "cell_type": "code",
      "source": [
        "m = fit_model(DecisionTreeClassifier(max_depth=50))\n",
        "score_model(m)"
      ],
      "metadata": {
        "colab": {
          "base_uri": "https://localhost:8080/"
        },
        "id": "H7pDKb4xl-Ag",
        "outputId": "30e05749-b89e-4ca4-f0ad-44aaa4c9e3d7"
      },
      "execution_count": null,
      "outputs": [
        {
          "output_type": "stream",
          "name": "stdout",
          "text": [
            "accuracy: 0.8962525870800123\n",
            "f1: 0.4588883785025264\n",
            "roc_auc: 0.7001009032457174\n",
            "[[19354  1170]\n",
            " [ 1186   999]]\n"
          ]
        }
      ]
    },
    {
      "cell_type": "code",
      "source": [
        "m = fit_model(DecisionTreeClassifier(max_depth=30))\n",
        "score_model(m)"
      ],
      "metadata": {
        "colab": {
          "base_uri": "https://localhost:8080/"
        },
        "id": "8n8eItgYl_s_",
        "outputId": "210805f6-4364-4849-83ea-82d9728b206c"
      },
      "execution_count": null,
      "outputs": [
        {
          "output_type": "stream",
          "name": "stdout",
          "text": [
            "accuracy: 0.9014487648069047\n",
            "f1: 0.44466501240694783\n",
            "roc_auc: 0.681915049947664\n",
            "[[19575   949]\n",
            " [ 1289   896]]\n"
          ]
        }
      ]
    },
    {
      "cell_type": "code",
      "source": [
        "m = fit_model(DecisionTreeClassifier(max_depth=5))\n",
        "score_model(m)"
      ],
      "metadata": {
        "colab": {
          "base_uri": "https://localhost:8080/"
        },
        "id": "G6mZaWMimBqH",
        "outputId": "2d4096e1-fac5-434a-af52-79dab4abc011"
      },
      "execution_count": null,
      "outputs": [
        {
          "output_type": "stream",
          "name": "stdout",
          "text": [
            "accuracy: 0.9138667488660883\n",
            "f1: 0.22133757961783437\n",
            "roc_auc: 0.5624218362205412\n",
            "[[20475    49]\n",
            " [ 1907   278]]\n"
          ]
        }
      ]
    },
    {
      "cell_type": "code",
      "source": [
        "m = fit_model(DecisionTreeClassifier(max_depth=2))\n",
        "score_model(m)"
      ],
      "metadata": {
        "colab": {
          "base_uri": "https://localhost:8080/"
        },
        "id": "r7begCyxmCun",
        "outputId": "bcc1da26-dbe6-4543-958e-e3673ab9ac14"
      },
      "execution_count": null,
      "outputs": [
        {
          "output_type": "stream",
          "name": "stdout",
          "text": [
            "accuracy: 0.9139107842705535\n",
            "f1: 0.22266401590457258\n",
            "roc_auc: 0.5628551404015705\n",
            "[[20474    50]\n",
            " [ 1905   280]]\n"
          ]
        }
      ]
    },
    {
      "cell_type": "markdown",
      "source": [
        "## Random Forest"
      ],
      "metadata": {
        "id": "6ZT7h8LgwKtq"
      }
    },
    {
      "cell_type": "code",
      "source": [
        "from sklearn.ensemble import RandomForestClassifier"
      ],
      "metadata": {
        "id": "74imrPwq6Quu"
      },
      "execution_count": null,
      "outputs": []
    },
    {
      "cell_type": "code",
      "source": [
        "m = fit_model(RandomForestClassifier())\n",
        "score_model(m)"
      ],
      "metadata": {
        "colab": {
          "base_uri": "https://localhost:8080/"
        },
        "id": "MbTOd6rm7_hi",
        "outputId": "cf7ac684-f0a7-4f7f-8d8c-ccc9902c65da"
      },
      "execution_count": null,
      "outputs": [
        {
          "output_type": "stream",
          "name": "stdout",
          "text": [
            "accuracy: 0.9193271390197719\n",
            "f1: 0.5019032082653616\n",
            "roc_auc: 0.6973266326145158\n",
            "[[19954   570]\n",
            " [ 1262   923]]\n"
          ]
        }
      ]
    },
    {
      "cell_type": "code",
      "source": [
        "m = fit_model(RandomForestClassifier(n_estimators=200))\n",
        "score_model(m)"
      ],
      "metadata": {
        "colab": {
          "base_uri": "https://localhost:8080/"
        },
        "id": "q850oRqM8VdO",
        "outputId": "d0cbfae5-3cbf-446d-faf4-f3d6869ccb24"
      },
      "execution_count": null,
      "outputs": [
        {
          "output_type": "stream",
          "name": "stdout",
          "text": [
            "accuracy: 0.9187546787617245\n",
            "f1: 0.49795918367346936\n",
            "roc_auc: 0.6953741603846498\n",
            "[[19949   575]\n",
            " [ 1270   915]]\n"
          ]
        }
      ]
    },
    {
      "cell_type": "code",
      "source": [
        "m = fit_model(RandomForestClassifier(n_estimators=50))\n",
        "score_model(m)"
      ],
      "metadata": {
        "colab": {
          "base_uri": "https://localhost:8080/"
        },
        "id": "UAAXyvOO8XL_",
        "outputId": "eef6069b-a782-4033-92d6-480562f5f7dd"
      },
      "execution_count": null,
      "outputs": [
        {
          "output_type": "stream",
          "name": "stdout",
          "text": [
            "accuracy: 0.9184023955260029\n",
            "f1: 0.4907941742236878\n",
            "roc_auc: 0.6906808995619127\n",
            "[[19963   561]\n",
            " [ 1292   893]]\n"
          ]
        }
      ]
    },
    {
      "cell_type": "markdown",
      "source": [
        "## XGBoost"
      ],
      "metadata": {
        "id": "h1Bo0UKF7lgN"
      }
    },
    {
      "cell_type": "code",
      "source": [
        "from xgboost import XGBClassifier"
      ],
      "metadata": {
        "id": "tufu676C75MF"
      },
      "execution_count": null,
      "outputs": []
    },
    {
      "cell_type": "code",
      "source": [
        "m = fit_model(XGBClassifier())\n",
        "score_model(m)"
      ],
      "metadata": {
        "colab": {
          "base_uri": "https://localhost:8080/"
        },
        "id": "9F2pCpZ07yO9",
        "outputId": "40fa9d18-dacf-4117-cfe0-b6394edda7ea"
      },
      "execution_count": null,
      "outputs": [
        {
          "output_type": "stream",
          "name": "stdout",
          "text": [
            "accuracy: 0.9150116693821833\n",
            "f1: 0.24961119751166408\n",
            "roc_auc: 0.571847503865542\n",
            "[[20458    66]\n",
            " [ 1864   321]]\n"
          ]
        }
      ]
    },
    {
      "cell_type": "markdown",
      "source": [
        "## Comparing Models"
      ],
      "metadata": {
        "id": "YL3uMa7ghvPc"
      }
    },
    {
      "cell_type": "code",
      "source": [
        "models = {\n",
        "    'knn': KNeighborsClassifier(),\n",
        "    'dt': DecisionTreeClassifier(),\n",
        "    'rf': RandomForestClassifier(),\n",
        "    'xgb': XGBClassifier()\n",
        "}\n",
        "\n",
        "def compare(models, score):\n",
        "  data = []\n",
        "  for i, m in models.items():\n",
        "    m.fit(X_train, y_train.values.ravel())\n",
        "    y_pred = m.predict(X_test)\n",
        "    \n",
        "    data.append([float(score(y_test, y_pred)),i])\n",
        "\n",
        "  return pd.DataFrame(data=data, columns=['score','model'])"
      ],
      "metadata": {
        "id": "Bnilb8-AhyAI"
      },
      "execution_count": null,
      "outputs": []
    },
    {
      "cell_type": "code",
      "source": [
        "def bar_graph_comparison(data, palette='tab20b', title=None, savefig=None):\n",
        "  sns.set()\n",
        "\n",
        "  sns.barplot(x='model', y='score', data=data, palette=palette)\n",
        "\n",
        "  plt.xlabel('model')\n",
        "  plt.ylabel(f'score')\n",
        "\n",
        "  if title:\n",
        "    plt.title(title)\n",
        "  else:\n",
        "    plt.title('Model Comparison')\n",
        "\n",
        "  if savefig:\n",
        "    plt.savefig(savefig,dpi=200, bbox_inches='tight')\n",
        "  \n",
        "\n",
        "  plt.show()"
      ],
      "metadata": {
        "id": "l_y540BrrQNK"
      },
      "execution_count": null,
      "outputs": []
    },
    {
      "cell_type": "code",
      "source": [
        "bar_graph_comparison(compare(models, accuracy_score), title='Accuracy Comparison', savefig='accuracy_bar')"
      ],
      "metadata": {
        "colab": {
          "base_uri": "https://localhost:8080/",
          "height": 301
        },
        "id": "7caah-yIvJ2B",
        "outputId": "3a27130e-e238-4721-854f-cd556930154b"
      },
      "execution_count": null,
      "outputs": [
        {
          "output_type": "display_data",
          "data": {
            "text/plain": [
              "<Figure size 432x288 with 1 Axes>"
            ],
            "image/png": "[encoded data removed]"
          },
          "metadata": {}
        }
      ]
    },
    {
      "cell_type": "code",
      "source": [
        "bar_graph_comparison(compare(models, roc_auc_score), title='ROC AUC Comparison', savefig='roc_auc_bar')"
      ],
      "metadata": {
        "colab": {
          "base_uri": "https://localhost:8080/",
          "height": 301
        },
        "id": "fOVaX6pgvfLO",
        "outputId": "df68b6d0-31e2-44d0-c1b6-be639ba489be"
      },
      "execution_count": null,
      "outputs": [
        {
          "output_type": "display_data",
          "data": {
            "text/plain": [
              "<Figure size 432x288 with 1 Axes>"
            ],
            "image/png": "[encoded data removed]"
          },
          "metadata": {}
        }
      ]
    },
    {
      "cell_type": "code",
      "source": [
        "bar_graph_comparison(compare(models, f1_score), title='F1 Score Comparison', savefig='f1_score_bar')"
      ],
      "metadata": {
        "colab": {
          "base_uri": "https://localhost:8080/",
          "height": 301
        },
        "id": "IDCgw6nOv5Sb",
        "outputId": "7773f6ed-861b-486e-d7bd-c6062e6d3951"
      },
      "execution_count": null,
      "outputs": [
        {
          "output_type": "display_data",
          "data": {
            "text/plain": [
              "<Figure size 432x288 with 1 Axes>"
            ],
            "image/png": "[encoded data removed]"
          },
          "metadata": {}
        }
      ]
    },
    {
      "cell_type": "code",
      "source": [
        "bar_graph_comparison(compare(models, recall_score), title='Recall Comparison', savefig='recall_bar')"
      ],
      "metadata": {
        "colab": {
          "base_uri": "https://localhost:8080/",
          "height": 301
        },
        "id": "WBAxrU7zwLIU",
        "outputId": "f709d9bf-5b00-4910-edc6-260cbd4dbb81"
      },
      "execution_count": null,
      "outputs": [
        {
          "output_type": "display_data",
          "data": {
            "text/plain": [
              "<Figure size 432x288 with 1 Axes>"
            ],
            "image/png": "[encoded data removed]"
          },
          "metadata": {}
        }
      ]
    },
    {
      "cell_type": "code",
      "source": [
        "bar_graph_comparison(compare(models, precision_score), title='Precision Comparison', savefig='precision_bar')"
      ],
      "metadata": {
        "colab": {
          "base_uri": "https://localhost:8080/",
          "height": 301
        },
        "id": "qa125N22wW00",
        "outputId": "98255ce1-5451-4c02-de4f-7f668b7a2498"
      },
      "execution_count": null,
      "outputs": [
        {
          "output_type": "display_data",
          "data": {
            "text/plain": [
              "<Figure size 432x288 with 1 Axes>"
            ],
            "image/png": "[encoded data removed]"
          },
          "metadata": {}
        }
      ]
    },
    {
      "cell_type": "markdown",
      "source": [
        "## Improving Model\n",
        "\n"
      ],
      "metadata": {
        "id": "0FSPBoDLKNGz"
      }
    },
    {
      "cell_type": "markdown",
      "source": [
        "### Tuning Hyperparameters"
      ],
      "metadata": {
        "id": "dBgDHrW0KRfy"
      }
    },
    {
      "cell_type": "markdown",
      "source": [
        "We will try to use different methods to find the best hyperparameters"
      ],
      "metadata": {
        "id": "C8pFYB1lKr7c"
      }
    },
    {
      "cell_type": "code",
      "source": [
        "from sklearn.model_selection import GridSearchCV"
      ],
      "metadata": {
        "id": "XePZLqQ3K9DX"
      },
      "execution_count": null,
      "outputs": []
    },
    {
      "cell_type": "code",
      "source": [
        "params = {\n",
        "    \"n_estimators\": [30, 50, 80, 100],\n",
        "    \"max_features\": ['sqrt', 'log2', None]\n",
        "}\n",
        "\n",
        "clf = GridSearchCV(RandomForestClassifier(), params, scoring='roc_auc')\n",
        "clf.fit(X_train, y_train.values.ravel())"
      ],
      "metadata": {
        "colab": {
          "base_uri": "https://localhost:8080/"
        },
        "id": "3KKKKUdQKdaC",
        "outputId": "ad24fc6b-1da7-4672-e16d-e7e052759adb"
      },
      "execution_count": null,
      "outputs": [
        {
          "output_type": "execute_result",
          "data": {
            "text/plain": [
              "GridSearchCV(estimator=RandomForestClassifier(),\n",
              "             param_grid={'max_features': ['sqrt', 'log2', None],\n",
              "                         'n_estimators': [30, 50, 80, 100]},\n",
              "             scoring='roc_auc')"
            ]
          },
          "metadata": {},
          "execution_count": 53
        }
      ]
    },
    {
      "cell_type": "code",
      "source": [
        "print(clf.best_params_)\n",
        "print(clf.best_score_)"
      ],
      "metadata": {
        "colab": {
          "base_uri": "https://localhost:8080/"
        },
        "id": "_8m_rGs5K-8W",
        "outputId": "1b6c80f5-9f23-4d72-b99d-55e19fa87b34"
      },
      "execution_count": null,
      "outputs": [
        {
          "output_type": "stream",
          "name": "stdout",
          "text": [
            "{'max_features': 'log2', 'n_estimators': 100}\n",
            "0.9297857219281053\n"
          ]
        }
      ]
    },
    {
      "cell_type": "markdown",
      "source": [
        "### Imbalanced Datasets"
      ],
      "metadata": {
        "id": "l_1GHVTa8gWu"
      }
    },
    {
      "cell_type": "markdown",
      "source": [
        "Here we will try to address the problem of an imbalanced dataset"
      ],
      "metadata": {
        "id": "gXMjQoDN8jjl"
      }
    },
    {
      "cell_type": "code",
      "source": [
        "model = RandomForestClassifier(class_weight='balanced', max_features='sqrt', n_estimators=100)\n",
        "model.fit(X_train, y_train.values.ravel())\n",
        "score_model(model)"
      ],
      "metadata": {
        "colab": {
          "base_uri": "https://localhost:8080/"
        },
        "id": "4uvDIAnY9tNe",
        "outputId": "914f5926-0304-4c65-f62b-bd84682ae6de"
      },
      "execution_count": null,
      "outputs": [
        {
          "output_type": "stream",
          "name": "stdout",
          "text": [
            "accuracy: 0.919811528468889\n",
            "f1: 0.4909141738887336\n",
            "roc_auc: 0.6883934062572054\n",
            "[[20010   514]\n",
            " [ 1307   878]]\n"
          ]
        }
      ]
    },
    {
      "cell_type": "markdown",
      "source": [
        "In this case a 'false negative' would be worse than a 'false positive because we would rather find a non hazardous NEO than not find a hazardous NEO therefore, we would be looking to reduce the number of 'false negatives' as much as possible while keeping the overall accuracy as high as possible"
      ],
      "metadata": {
        "id": "2hb2qqVGIzsj"
      }
    },
    {
      "cell_type": "markdown",
      "source": [
        "Also, Confusion Matrix can also be used to compare the false negatives and false positives"
      ],
      "metadata": {
        "id": "ym_AQ5iFIkAU"
      }
    },
    {
      "cell_type": "code",
      "source": [
        "from imblearn.over_sampling import RandomOverSampler, SMOTE\n",
        "from imblearn.under_sampling import RandomUnderSampler, TomekLinks"
      ],
      "metadata": {
        "id": "zlcFR75ONoWO"
      },
      "execution_count": null,
      "outputs": []
    },
    {
      "cell_type": "code",
      "source": [
        "oversampler = SMOTE(sampling_strategy='minority')\n",
        "X_train_SMOTE, y_train_SMOTE = oversampler.fit_resample(X_train, y_train)"
      ],
      "metadata": {
        "id": "aQLFaFlgOEdH"
      },
      "execution_count": null,
      "outputs": []
    },
    {
      "cell_type": "code",
      "source": [
        "model = RandomForestClassifier(class_weight='balanced', max_features='sqrt', n_estimators=100)\n",
        "model.fit(X_train_SMOTE, y_train_SMOTE.values.ravel())"
      ],
      "metadata": {
        "colab": {
          "base_uri": "https://localhost:8080/"
        },
        "id": "nTpVpUuWQSGV",
        "outputId": "a986955a-e7f0-4699-f8d7-a286751d9941"
      },
      "execution_count": null,
      "outputs": [
        {
          "output_type": "execute_result",
          "data": {
            "text/plain": [
              "RandomForestClassifier(class_weight='balanced', max_features='sqrt')"
            ]
          },
          "metadata": {},
          "execution_count": 25
        }
      ]
    },
    {
      "cell_type": "code",
      "source": [
        "score_model(model)"
      ],
      "metadata": {
        "colab": {
          "base_uri": "https://localhost:8080/"
        },
        "id": "PQYs7ORNQabL",
        "outputId": "c6777158-c989-49b9-d168-38b83363f60e"
      },
      "execution_count": null,
      "outputs": [
        {
          "output_type": "stream",
          "name": "stdout",
          "text": [
            "accuracy: 0.9140869258884143\n",
            "f1: 0.5495266682059571\n",
            "roc_auc: 0.7490214057594904\n",
            "[[19568   956]\n",
            " [  995  1190]]\n"
          ]
        }
      ]
    },
    {
      "cell_type": "markdown",
      "source": [
        "Oversampling using SMOTE provides great improvement as eventhough the accuracy is slightly lower, the results are more balanced"
      ],
      "metadata": {
        "id": "wftUrNq7JXir"
      }
    },
    {
      "cell_type": "code",
      "source": [
        "undersampler = TomekLinks(sampling_strategy='auto')\n",
        "X_train_Tomek, y_train_Tomek = undersampler.fit_resample(X_train, y_train)"
      ],
      "metadata": {
        "id": "CPTm4_olQqor"
      },
      "execution_count": null,
      "outputs": []
    },
    {
      "cell_type": "code",
      "source": [
        "model = RandomForestClassifier(class_weight='balanced', max_features='sqrt', n_estimators=100)\n",
        "model.fit(X_train_Tomek, y_train_Tomek.values.ravel())"
      ],
      "metadata": {
        "colab": {
          "base_uri": "https://localhost:8080/"
        },
        "id": "K2p2UQEhSK2y",
        "outputId": "15d8c8c4-e63d-4afc-c182-b04db686c1af"
      },
      "execution_count": null,
      "outputs": [
        {
          "output_type": "execute_result",
          "data": {
            "text/plain": [
              "RandomForestClassifier(class_weight='balanced', max_features='sqrt')"
            ]
          },
          "metadata": {},
          "execution_count": 61
        }
      ]
    },
    {
      "cell_type": "code",
      "source": [
        "score_model(model)"
      ],
      "metadata": {
        "colab": {
          "base_uri": "https://localhost:8080/"
        },
        "id": "ij55DGgzSNvC",
        "outputId": "d89a87cf-1b2c-4472-bef9-b5d4659ca2b6"
      },
      "execution_count": null,
      "outputs": [
        {
          "output_type": "stream",
          "name": "stdout",
          "text": [
            "accuracy: 0.9184464309304681\n",
            "f1: 0.4937124111536359\n",
            "roc_auc: 0.6927499735756141\n",
            "[[19954   570]\n",
            " [ 1282   903]]\n"
          ]
        }
      ]
    },
    {
      "cell_type": "markdown",
      "source": [
        "Undersampling with TomekLinks doesn't really improve the model"
      ],
      "metadata": {
        "id": "UqFCt3xHJcKD"
      }
    },
    {
      "cell_type": "markdown",
      "source": [
        "## Final Model"
      ],
      "metadata": {
        "id": "XQZ8TYo9YoKv"
      }
    },
    {
      "cell_type": "code",
      "source": [
        "model = RandomForestClassifier(class_weight='balanced', max_features='sqrt', n_estimators=100)\n",
        "model.fit(X_train_SMOTE, y_train_SMOTE.values.ravel())"
      ],
      "metadata": {
        "colab": {
          "base_uri": "https://localhost:8080/"
        },
        "id": "RsJF9j5AYpe8",
        "outputId": "d5af0514-2d69-4a7e-c74e-29fcdbf4cb52"
      },
      "execution_count": null,
      "outputs": [
        {
          "output_type": "execute_result",
          "data": {
            "text/plain": [
              "RandomForestClassifier(class_weight='balanced', max_features='sqrt')"
            ]
          },
          "metadata": {},
          "execution_count": 26
        }
      ]
    },
    {
      "cell_type": "code",
      "source": [
        "score_model(model)"
      ],
      "metadata": {
        "colab": {
          "base_uri": "https://localhost:8080/"
        },
        "id": "CLlUXpGj9iHl",
        "outputId": "71b6d52d-77de-448b-f4b8-00261ece598e"
      },
      "execution_count": null,
      "outputs": [
        {
          "output_type": "stream",
          "name": "stdout",
          "text": [
            "accuracy: 0.9112246245981769\n",
            "f1: 0.5403556771545828\n",
            "roc_auc: 0.7441240604912168\n",
            "[[19508   993]\n",
            " [ 1023  1185]]\n"
          ]
        }
      ]
    },
    {
      "cell_type": "code",
      "source": [
        "from sklearn.metrics import ConfusionMatrixDisplay\n",
        "\n",
        "y_pred = model.predict(X_test)\n",
        "\n",
        "fig, ax = plt.subplots(figsize=(8,5))\n",
        "plt.grid(False)\n",
        "cmp = ConfusionMatrixDisplay(confusion_matrix(y_test, y_pred))\n",
        "cmp.plot(ax=ax)\n",
        "plt.savefig('predictions', dpi=200);"
      ],
      "metadata": {
        "colab": {
          "base_uri": "https://localhost:8080/",
          "height": 339
        },
        "id": "mU3bNhXD9jDE",
        "outputId": "85e34a7f-1f2a-483c-9b82-cd6935e6b87d"
      },
      "execution_count": null,
      "outputs": [
        {
          "output_type": "display_data",
          "data": {
            "text/plain": [
              "<Figure size 576x360 with 2 Axes>"
            ],
            "image/png": "[encoded data removed]"
          },
          "metadata": {}
        }
      ]
    },
    {
      "cell_type": "markdown",
      "source": [
        "## Deep Neural Network"
      ],
      "metadata": {
        "id": "U6e76eDbHx6j"
      }
    },
    {
      "cell_type": "code",
      "source": [
        "from tensorflow import keras\n",
        "from keras.models import Sequential\n",
        "from keras.layers import Dense\n",
        "from keras import metrics \n",
        "from keras.callbacks import EarlyStopping, LearningRateScheduler, ReduceLROnPlateau"
      ],
      "metadata": {
        "id": "-P2SGCg3H2SY"
      },
      "execution_count": null,
      "outputs": []
    },
    {
      "cell_type": "code",
      "source": [
        "oversampler = SMOTE(sampling_strategy='minority')\n",
        "X_train_SMOTE, y_train_SMOTE = oversampler.fit_resample(X_train, y_train)"
      ],
      "metadata": {
        "id": "Azvy1lCa3uz8"
      },
      "execution_count": null,
      "outputs": []
    },
    {
      "cell_type": "code",
      "source": [
        "model = Sequential()\n",
        "\n",
        "num_cols = X_train_SMOTE.shape[1]\n",
        "\n",
        "model.add(Dense(12, input_shape=(num_cols,), activation='relu'))\n",
        "model.add(Dense(8, activation='relu'))\n",
        "model.add(Dense(4, activation='relu'))\n",
        "model.add(Dense(2, activation='relu'))\n",
        "\n",
        "model.add(Dense(1, activation='sigmoid'))\n",
        "\n",
        "print(model.summary())"
      ],
      "metadata": {
        "colab": {
          "base_uri": "https://localhost:8080/"
        },
        "id": "AvnmfEj7Ii2Q",
        "outputId": "169f322d-4b35-4a0e-a4c4-6de75ad78b36"
      },
      "execution_count": null,
      "outputs": [
        {
          "output_type": "stream",
          "name": "stdout",
          "text": [
            "Model: \"sequential_4\"\n",
            "_________________________________________________________________\n",
            " Layer (type)                Output Shape              Param #   \n",
            "=================================================================\n",
            " dense_19 (Dense)            (None, 12)                72        \n",
            "                                                                 \n",
            " dense_20 (Dense)            (None, 8)                 104       \n",
            "                                                                 \n",
            " dense_21 (Dense)            (None, 4)                 36        \n",
            "                                                                 \n",
            " dense_22 (Dense)            (None, 2)                 10        \n",
            "                                                                 \n",
            " dense_23 (Dense)            (None, 1)                 3         \n",
            "                                                                 \n",
            "=================================================================\n",
            "Total params: 225\n",
            "Trainable params: 225\n",
            "Non-trainable params: 0\n",
            "_________________________________________________________________\n",
            "None\n"
          ]
        }
      ]
    },
    {
      "cell_type": "code",
      "source": [
        "cross_entropy_loss = keras.losses.BinaryCrossentropy()\n",
        "network_optimizer = keras.optimizers.Adam(learning_rate=0.03, beta_1=0.95, beta_2=0.995, epsilon=0.00000000001)\n",
        "early_stopping_condition = EarlyStopping(monitor='loss', mode='auto', patience=15, restore_best_weights=True, min_delta=0)\n",
        "plateau_monitor = ReduceLROnPlateau(monitor='loss', mode='auto', patience=5, factor=0.03, min_lr=0.0000001)\n",
        "\n",
        "model.compile(loss=cross_entropy_loss, optimizer=network_optimizer)"
      ],
      "metadata": {
        "id": "zH_R9m8pNcsE"
      },
      "execution_count": null,
      "outputs": []
    },
    {
      "cell_type": "code",
      "source": [
        "history = model.fit(X_train_SMOTE, y_train_SMOTE, epochs=50, callbacks=[early_stopping_condition, plateau_monitor])"
      ],
      "metadata": {
        "colab": {
          "base_uri": "https://localhost:8080/"
        },
        "id": "ygw9XINP6Oww",
        "outputId": "e7a319f3-e030-4533-801a-87fab6ab34fa"
      },
      "execution_count": null,
      "outputs": [
        {
          "output_type": "stream",
          "name": "stdout",
          "text": [
            "Train on 122870 samples\n",
            "Epoch 1/10\n",
            "122870/122870 [==============================] - 8s 69us/sample - loss: 0.6939 - lr: 0.0300\n",
            "Epoch 2/10\n",
            "122870/122870 [==============================] - 7s 58us/sample - loss: 0.6938 - lr: 0.0300\n",
            "Epoch 3/10\n",
            "122870/122870 [==============================] - 7s 58us/sample - loss: 0.6939 - lr: 0.0300\n",
            "Epoch 4/10\n",
            "122870/122870 [==============================] - 7s 58us/sample - loss: 0.6937 - lr: 0.0300\n",
            "Epoch 5/10\n",
            "122870/122870 [==============================] - 8s 62us/sample - loss: 0.6939 - lr: 0.0300\n",
            "Epoch 6/10\n",
            "122870/122870 [==============================] - 7s 57us/sample - loss: 0.6939 - lr: 0.0300\n",
            "Epoch 7/10\n",
            "122870/122870 [==============================] - 7s 57us/sample - loss: 0.6939 - lr: 0.0300\n",
            "Epoch 8/10\n",
            "122870/122870 [==============================] - 7s 58us/sample - loss: 0.6938 - lr: 0.0300\n",
            "Epoch 9/10\n",
            "122870/122870 [==============================] - 7s 58us/sample - loss: 0.6938 - lr: 0.0300\n",
            "Epoch 10/10\n",
            "122870/122870 [==============================] - 7s 58us/sample - loss: 0.6932 - lr: 9.0000e-04\n"
          ]
        }
      ]
    },
    {
      "cell_type": "code",
      "source": [
        "model.evaluate(X_test, y_test)"
      ],
      "metadata": {
        "colab": {
          "base_uri": "https://localhost:8080/"
        },
        "id": "iCv69JsOOAaz",
        "outputId": "e9513aee-1166-44c2-b051-57756c850ddc"
      },
      "execution_count": null,
      "outputs": [
        {
          "output_type": "stream",
          "name": "stderr",
          "text": [
            "/usr/local/lib/python3.7/dist-packages/keras/engine/training_v1.py:2057: UserWarning: `Model.state_updates` will be removed in a future version. This property should not be used in TensorFlow 2.0, as `updates` are applied automatically.\n",
            "  updates = self.state_updates\n"
          ]
        },
        {
          "output_type": "execute_result",
          "data": {
            "text/plain": [
              "0.6910444306457965"
            ]
          },
          "metadata": {},
          "execution_count": 55
        }
      ]
    },
    {
      "cell_type": "code",
      "source": [
        "y_pred = model.predict(X_test)"
      ],
      "metadata": {
        "id": "cAYIlt_HSpr_",
        "colab": {
          "base_uri": "https://localhost:8080/"
        },
        "outputId": "7ff0add5-b0b5-40bd-a3f4-c3dec2943b6c"
      },
      "execution_count": null,
      "outputs": [
        {
          "output_type": "stream",
          "name": "stderr",
          "text": [
            "/usr/local/lib/python3.7/dist-packages/keras/engine/training_v1.py:2079: UserWarning: `Model.state_updates` will be removed in a future version. This property should not be used in TensorFlow 2.0, as `updates` are applied automatically.\n",
            "  updates=self.state_updates,\n"
          ]
        }
      ]
    },
    {
      "cell_type": "code",
      "source": [
        "y_pred"
      ],
      "metadata": {
        "colab": {
          "base_uri": "https://localhost:8080/"
        },
        "id": "WQFPCCtBSvdH",
        "outputId": "235d5c9d-b8a4-4bdb-b862-3bf35e14b39a"
      },
      "execution_count": null,
      "outputs": [
        {
          "output_type": "execute_result",
          "data": {
            "text/plain": [
              "array([[0.49870124],\n",
              "       [0.49870124],\n",
              "       [0.49870124],\n",
              "       ...,\n",
              "       [0.49870124],\n",
              "       [0.49870124],\n",
              "       [0.49870124]], dtype=float32)"
            ]
          },
          "metadata": {},
          "execution_count": 57
        }
      ]
    },
    {
      "cell_type": "code",
      "source": [
        "pd.DataFrame(y_pred).value_counts()"
      ],
      "metadata": {
        "colab": {
          "base_uri": "https://localhost:8080/"
        },
        "id": "LyvnV1xuTYPw",
        "outputId": "f9305400-8fbb-45cf-94f9-51ba4f22c852"
      },
      "execution_count": null,
      "outputs": [
        {
          "output_type": "execute_result",
          "data": {
            "text/plain": [
              "0.498701    22709\n",
              "dtype: int64"
            ]
          },
          "metadata": {},
          "execution_count": 58
        }
      ]
    },
    {
      "cell_type": "code",
      "source": [
        "history = model.fit(X_train_SMOTE, y_train_SMOTE, epochs=50, callbacks=[early_stopping_condition, plateau_monitor])"
      ],
      "metadata": {
        "id": "imzmdMMgUO5e",
        "colab": {
          "base_uri": "https://localhost:8080/"
        },
        "outputId": "4eb2bf04-48a2-44af-cfd4-8b8f3b38b7c5"
      },
      "execution_count": null,
      "outputs": [
        {
          "output_type": "stream",
          "name": "stdout",
          "text": [
            "Train on 122870 samples\n",
            "Epoch 1/50\n",
            "122870/122870 [==============================] - 9s 76us/sample - loss: 0.6932 - lr: 9.0000e-04\n",
            "Epoch 2/50\n",
            "122870/122870 [==============================] - 7s 58us/sample - loss: 0.6932 - lr: 9.0000e-04\n",
            "Epoch 3/50\n",
            "122870/122870 [==============================] - 7s 58us/sample - loss: 0.6932 - lr: 9.0000e-04\n",
            "Epoch 4/50\n",
            "122870/122870 [==============================] - 7s 59us/sample - loss: 0.6932 - lr: 9.0000e-04\n",
            "Epoch 5/50\n",
            "122870/122870 [==============================] - 7s 60us/sample - loss: 0.6932 - lr: 9.0000e-04\n",
            "Epoch 6/50\n",
            "122870/122870 [==============================] - 7s 59us/sample - loss: 0.6932 - lr: 9.0000e-04\n",
            "Epoch 7/50\n",
            "122870/122870 [==============================] - 7s 58us/sample - loss: 0.6932 - lr: 2.7000e-05\n",
            "Epoch 8/50\n",
            "122870/122870 [==============================] - 7s 57us/sample - loss: 0.6932 - lr: 2.7000e-05\n",
            "Epoch 9/50\n",
            "122870/122870 [==============================] - 7s 58us/sample - loss: 0.6932 - lr: 2.7000e-05\n",
            "Epoch 10/50\n",
            "122870/122870 [==============================] - 7s 58us/sample - loss: 0.6932 - lr: 2.7000e-05\n",
            "Epoch 11/50\n",
            "122870/122870 [==============================] - 7s 58us/sample - loss: 0.6932 - lr: 2.7000e-05\n",
            "Epoch 12/50\n",
            "122870/122870 [==============================] - 7s 57us/sample - loss: 0.6931 - lr: 8.1000e-07\n",
            "Epoch 13/50\n",
            "122870/122870 [==============================] - 7s 58us/sample - loss: 0.6931 - lr: 8.1000e-07\n",
            "Epoch 14/50\n",
            "122870/122870 [==============================] - 7s 59us/sample - loss: 0.6931 - lr: 8.1000e-07\n",
            "Epoch 15/50\n",
            "122870/122870 [==============================] - 7s 58us/sample - loss: 0.6931 - lr: 8.1000e-07\n",
            "Epoch 16/50\n",
            "122870/122870 [==============================] - 7s 58us/sample - loss: 0.6931 - lr: 8.1000e-07\n",
            "Epoch 17/50\n",
            "122870/122870 [==============================] - 7s 58us/sample - loss: 0.6931 - lr: 1.0000e-07\n",
            "Epoch 18/50\n",
            "122870/122870 [==============================] - 7s 58us/sample - loss: 0.6931 - lr: 1.0000e-07\n",
            "Epoch 19/50\n",
            "122870/122870 [==============================] - 7s 58us/sample - loss: 0.6931 - lr: 1.0000e-07\n",
            "Epoch 20/50\n",
            "122870/122870 [==============================] - 7s 58us/sample - loss: 0.6931 - lr: 1.0000e-07\n",
            "Epoch 21/50\n",
            "122870/122870 [==============================] - 7s 58us/sample - loss: 0.6931 - lr: 1.0000e-07\n",
            "Epoch 22/50\n",
            "122870/122870 [==============================] - 7s 58us/sample - loss: 0.6931 - lr: 1.0000e-07\n",
            "Epoch 23/50\n",
            "122870/122870 [==============================] - 7s 57us/sample - loss: 0.6931 - lr: 1.0000e-07\n",
            "Epoch 24/50\n",
            "122870/122870 [==============================] - 7s 58us/sample - loss: 0.6931 - lr: 1.0000e-07\n",
            "Epoch 25/50\n",
            "122870/122870 [==============================] - 7s 58us/sample - loss: 0.6931 - lr: 1.0000e-07\n",
            "Epoch 26/50\n",
            "122870/122870 [==============================] - 7s 58us/sample - loss: 0.6931 - lr: 1.0000e-07\n",
            "Epoch 27/50\n",
            "122870/122870 [==============================] - 7s 59us/sample - loss: 0.6931 - lr: 1.0000e-07\n",
            "Epoch 28/50\n",
            "122870/122870 [==============================] - 7s 58us/sample - loss: 0.6931 - lr: 1.0000e-07\n",
            "Epoch 29/50\n",
            "122870/122870 [==============================] - 7s 58us/sample - loss: 0.6931 - lr: 1.0000e-07\n",
            "Epoch 30/50\n",
            "122870/122870 [==============================] - 7s 58us/sample - loss: 0.6931 - lr: 1.0000e-07\n",
            "Epoch 31/50\n",
            "122870/122870 [==============================] - 7s 58us/sample - loss: 0.6931 - lr: 1.0000e-07\n",
            "Epoch 32/50\n",
            "122870/122870 [==============================] - 7s 58us/sample - loss: 0.6931 - lr: 1.0000e-07\n",
            "Epoch 33/50\n",
            "122870/122870 [==============================] - 11s 89us/sample - loss: 0.6931 - lr: 1.0000e-07\n",
            "Epoch 34/50\n",
            "122870/122870 [==============================] - 8s 62us/sample - loss: 0.6931 - lr: 1.0000e-07\n",
            "Epoch 35/50\n",
            "122870/122870 [==============================] - 7s 58us/sample - loss: 0.6931 - lr: 1.0000e-07\n",
            "Epoch 36/50\n",
            "122870/122870 [==============================] - 7s 59us/sample - loss: 0.6931 - lr: 1.0000e-07\n",
            "Epoch 37/50\n",
            "122870/122870 [==============================] - 7s 58us/sample - loss: 0.6931 - lr: 1.0000e-07\n",
            "Epoch 38/50\n",
            "122870/122870 [==============================] - 7s 59us/sample - loss: 0.6931 - lr: 1.0000e-07\n",
            "Epoch 39/50\n",
            "122870/122870 [==============================] - 7s 58us/sample - loss: 0.6931 - lr: 1.0000e-07\n",
            "Epoch 40/50\n",
            "122870/122870 [==============================] - 7s 58us/sample - loss: 0.6931 - lr: 1.0000e-07\n",
            "Epoch 41/50\n",
            "122870/122870 [==============================] - 7s 58us/sample - loss: 0.6931 - lr: 1.0000e-07\n",
            "Epoch 42/50\n",
            "122870/122870 [==============================] - 7s 58us/sample - loss: 0.6931 - lr: 1.0000e-07\n",
            "Epoch 43/50\n",
            "122870/122870 [==============================] - 7s 58us/sample - loss: 0.6931 - lr: 1.0000e-07\n",
            "Epoch 44/50\n",
            "122870/122870 [==============================] - 7s 58us/sample - loss: 0.6931 - lr: 1.0000e-07\n",
            "Epoch 45/50\n",
            "122870/122870 [==============================] - 7s 59us/sample - loss: 0.6931 - lr: 1.0000e-07\n",
            "Epoch 46/50\n",
            "122870/122870 [==============================] - 7s 58us/sample - loss: 0.6931 - lr: 1.0000e-07\n",
            "Epoch 47/50\n",
            "122870/122870 [==============================] - 7s 58us/sample - loss: 0.6931 - lr: 1.0000e-07\n",
            "Epoch 48/50\n",
            "122870/122870 [==============================] - 7s 59us/sample - loss: 0.6931 - lr: 1.0000e-07\n",
            "Epoch 49/50\n",
            "122870/122870 [==============================] - 7s 59us/sample - loss: 0.6931 - lr: 1.0000e-07\n",
            "Epoch 50/50\n",
            "122870/122870 [==============================] - 7s 59us/sample - loss: 0.6931 - lr: 1.0000e-07\n"
          ]
        }
      ]
    },
    {
      "cell_type": "code",
      "source": [],
      "metadata": {
        "id": "0y4oE-f49MEY"
      },
      "execution_count": null,
      "outputs": []
    }
  ]
}